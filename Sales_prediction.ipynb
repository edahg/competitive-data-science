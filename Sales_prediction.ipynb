{
  "nbformat": 4,
  "nbformat_minor": 0,
  "metadata": {
    "kernelspec": {
      "display_name": "Python 3",
      "language": "python",
      "name": "python3"
    },
    "language_info": {
      "codemirror_mode": {
        "name": "ipython",
        "version": 3
      },
      "file_extension": ".py",
      "mimetype": "text/x-python",
      "name": "python",
      "nbconvert_exporter": "python",
      "pygments_lexer": "ipython3",
      "version": "3.7.3"
    },
    "colab": {
      "name": "Sales_prediction.ipynb",
      "provenance": [],
      "include_colab_link": true
    },
    "accelerator": "GPU"
  },
  "cells": [
    {
      "cell_type": "markdown",
      "metadata": {
        "id": "view-in-github",
        "colab_type": "text"
      },
      "source": [
        "<a href=\"https://colab.research.google.com/github/edahg/competitive-data-science/blob/master/Sales_prediction.ipynb\" target=\"_parent\"><img src=\"https://colab.research.google.com/assets/colab-badge.svg\" alt=\"Open In Colab\"/></a>"
      ]
    },
    {
      "cell_type": "markdown",
      "metadata": {
        "id": "NB-9TTiE-gBm",
        "colab_type": "text"
      },
      "source": [
        "# **Sales Prediction** "
      ]
    },
    {
      "cell_type": "markdown",
      "metadata": {
        "id": "NQ-8zj0H_Z_M",
        "colab_type": "text"
      },
      "source": [
        "This notebook was executed on Google Colab"
      ]
    },
    {
      "cell_type": "markdown",
      "metadata": {
        "id": "OjbbpDZu-xWl",
        "colab_type": "text"
      },
      "source": [
        "## **Install needed modules**"
      ]
    },
    {
      "cell_type": "code",
      "metadata": {
        "id": "HrqcrjPJZ6yz",
        "colab_type": "code",
        "colab": {
          "base_uri": "https://localhost:8080/",
          "height": 488
        },
        "outputId": "a1d974c4-872b-496b-c1df-a91dcb202f67"
      },
      "source": [
        "!pip install category_encoders\n",
        "!pip install xgboost\n",
        "!pip install seaborn"
      ],
      "execution_count": 1,
      "outputs": [
        {
          "output_type": "stream",
          "text": [
            "Collecting category_encoders\n",
            "\u001b[?25l  Downloading https://files.pythonhosted.org/packages/44/57/fcef41c248701ee62e8325026b90c432adea35555cbc870aff9cfba23727/category_encoders-2.2.2-py2.py3-none-any.whl (80kB)\n",
            "\r\u001b[K     |████                            | 10kB 17.0MB/s eta 0:00:01\r\u001b[K     |████████▏                       | 20kB 2.1MB/s eta 0:00:01\r\u001b[K     |████████████▏                   | 30kB 2.3MB/s eta 0:00:01\r\u001b[K     |████████████████▎               | 40kB 2.0MB/s eta 0:00:01\r\u001b[K     |████████████████████▎           | 51kB 2.3MB/s eta 0:00:01\r\u001b[K     |████████████████████████▍       | 61kB 2.5MB/s eta 0:00:01\r\u001b[K     |████████████████████████████▍   | 71kB 2.9MB/s eta 0:00:01\r\u001b[K     |████████████████████████████████| 81kB 2.4MB/s \n",
            "\u001b[?25hRequirement already satisfied: numpy>=1.14.0 in /usr/local/lib/python3.6/dist-packages (from category_encoders) (1.18.5)\n",
            "Requirement already satisfied: statsmodels>=0.9.0 in /usr/local/lib/python3.6/dist-packages (from category_encoders) (0.10.2)\n",
            "Requirement already satisfied: patsy>=0.5.1 in /usr/local/lib/python3.6/dist-packages (from category_encoders) (0.5.1)\n",
            "Requirement already satisfied: pandas>=0.21.1 in /usr/local/lib/python3.6/dist-packages (from category_encoders) (1.0.5)\n",
            "Requirement already satisfied: scipy>=1.0.0 in /usr/local/lib/python3.6/dist-packages (from category_encoders) (1.4.1)\n",
            "Requirement already satisfied: scikit-learn>=0.20.0 in /usr/local/lib/python3.6/dist-packages (from category_encoders) (0.22.2.post1)\n",
            "Requirement already satisfied: six in /usr/local/lib/python3.6/dist-packages (from patsy>=0.5.1->category_encoders) (1.15.0)\n",
            "Requirement already satisfied: pytz>=2017.2 in /usr/local/lib/python3.6/dist-packages (from pandas>=0.21.1->category_encoders) (2018.9)\n",
            "Requirement already satisfied: python-dateutil>=2.6.1 in /usr/local/lib/python3.6/dist-packages (from pandas>=0.21.1->category_encoders) (2.8.1)\n",
            "Requirement already satisfied: joblib>=0.11 in /usr/local/lib/python3.6/dist-packages (from scikit-learn>=0.20.0->category_encoders) (0.16.0)\n",
            "Installing collected packages: category-encoders\n",
            "Successfully installed category-encoders-2.2.2\n",
            "Requirement already satisfied: xgboost in /usr/local/lib/python3.6/dist-packages (0.90)\n",
            "Requirement already satisfied: scipy in /usr/local/lib/python3.6/dist-packages (from xgboost) (1.4.1)\n",
            "Requirement already satisfied: numpy in /usr/local/lib/python3.6/dist-packages (from xgboost) (1.18.5)\n",
            "Requirement already satisfied: seaborn in /usr/local/lib/python3.6/dist-packages (0.10.1)\n",
            "Requirement already satisfied: scipy>=1.0.1 in /usr/local/lib/python3.6/dist-packages (from seaborn) (1.4.1)\n",
            "Requirement already satisfied: pandas>=0.22.0 in /usr/local/lib/python3.6/dist-packages (from seaborn) (1.0.5)\n",
            "Requirement already satisfied: numpy>=1.13.3 in /usr/local/lib/python3.6/dist-packages (from seaborn) (1.18.5)\n",
            "Requirement already satisfied: matplotlib>=2.1.2 in /usr/local/lib/python3.6/dist-packages (from seaborn) (3.2.2)\n",
            "Requirement already satisfied: pytz>=2017.2 in /usr/local/lib/python3.6/dist-packages (from pandas>=0.22.0->seaborn) (2018.9)\n",
            "Requirement already satisfied: python-dateutil>=2.6.1 in /usr/local/lib/python3.6/dist-packages (from pandas>=0.22.0->seaborn) (2.8.1)\n",
            "Requirement already satisfied: kiwisolver>=1.0.1 in /usr/local/lib/python3.6/dist-packages (from matplotlib>=2.1.2->seaborn) (1.2.0)\n",
            "Requirement already satisfied: pyparsing!=2.0.4,!=2.1.2,!=2.1.6,>=2.0.1 in /usr/local/lib/python3.6/dist-packages (from matplotlib>=2.1.2->seaborn) (2.4.7)\n",
            "Requirement already satisfied: cycler>=0.10 in /usr/local/lib/python3.6/dist-packages (from matplotlib>=2.1.2->seaborn) (0.10.0)\n",
            "Requirement already satisfied: six>=1.5 in /usr/local/lib/python3.6/dist-packages (from python-dateutil>=2.6.1->pandas>=0.22.0->seaborn) (1.15.0)\n"
          ],
          "name": "stdout"
        }
      ]
    },
    {
      "cell_type": "markdown",
      "metadata": {
        "id": "cgNBvZ3da09u",
        "colab_type": "text"
      },
      "source": [
        ""
      ]
    },
    {
      "cell_type": "code",
      "metadata": {
        "id": "TOuYTDK4Vjb0",
        "colab_type": "code",
        "colab": {
          "base_uri": "https://localhost:8080/",
          "height": 50
        },
        "outputId": "cfb43a72-17e5-4e62-affc-f2538f64b24c"
      },
      "source": [
        "import pandas as pd\n",
        "import numpy as np\n",
        "\n",
        "from itertools import product\n",
        "import category_encoders as ce\n",
        "\n",
        "import seaborn as sns\n",
        "import matplotlib as mpl\n",
        "import matplotlib.pyplot as plt\n",
        "\n",
        "from xgboost import XGBRegressor\n",
        "from xgboost import plot_importance\n",
        "\n",
        "import pickle"
      ],
      "execution_count": 2,
      "outputs": [
        {
          "output_type": "stream",
          "text": [
            "/usr/local/lib/python3.6/dist-packages/statsmodels/tools/_testing.py:19: FutureWarning: pandas.util.testing is deprecated. Use the functions in the public API at pandas.testing instead.\n",
            "  import pandas.util.testing as tm\n"
          ],
          "name": "stderr"
        }
      ]
    },
    {
      "cell_type": "code",
      "metadata": {
        "id": "y2pPJ5s4WFO1",
        "colab_type": "code",
        "colab": {
          "base_uri": "https://localhost:8080/",
          "height": 135
        },
        "outputId": "1afffc69-80a8-4f76-f151-f99fd0256465"
      },
      "source": [
        "from google.colab import drive\n",
        "ROOT = \"/content/drive\"\n",
        "drive.mount(ROOT)\n",
        "%cd 'drive/My Drive/Colab Notebooks/'\n"
      ],
      "execution_count": 3,
      "outputs": [
        {
          "output_type": "stream",
          "text": [
            "Go to this URL in a browser: https://accounts.google.com/o/oauth2/auth?client_id=947318989803-6bn6qk8qdgf4n4g3pfee6491hc0brc4i.apps.googleusercontent.com&redirect_uri=urn%3aietf%3awg%3aoauth%3a2.0%3aoob&scope=email%20https%3a%2f%2fwww.googleapis.com%2fauth%2fdocs.test%20https%3a%2f%2fwww.googleapis.com%2fauth%2fdrive%20https%3a%2f%2fwww.googleapis.com%2fauth%2fdrive.photos.readonly%20https%3a%2f%2fwww.googleapis.com%2fauth%2fpeopleapi.readonly&response_type=code\n",
            "\n",
            "Enter your authorization code:\n",
            "··········\n",
            "Mounted at /content/drive\n",
            "/content/drive/My Drive/Colab Notebooks\n"
          ],
          "name": "stdout"
        }
      ]
    },
    {
      "cell_type": "markdown",
      "metadata": {
        "id": "UT76UqCO_561",
        "colab_type": "text"
      },
      "source": [
        "## **Load Data**"
      ]
    },
    {
      "cell_type": "code",
      "metadata": {
        "id": "Y-AitioxVjb4",
        "colab_type": "code",
        "colab": {}
      },
      "source": [
        "sales_train_df = pd.read_csv('sales_train.csv')\n",
        "test_df = pd.read_csv('test.csv')\n",
        "items_df = pd.read_csv('items.csv')\n",
        "shops_df = pd.read_csv('shops.csv')\n",
        "categories_df = pd.read_csv('item_categories.csv')"
      ],
      "execution_count": null,
      "outputs": []
    },
    {
      "cell_type": "markdown",
      "metadata": {
        "id": "3zc3dJHBCz0u",
        "colab_type": "text"
      },
      "source": [
        "## **EDA**"
      ]
    },
    {
      "cell_type": "markdown",
      "metadata": {
        "id": "zBNW1Qp4C4PL",
        "colab_type": "text"
      },
      "source": [
        "### Shops Data\n",
        "The first word of shop name corresponds to the city. "
      ]
    },
    {
      "cell_type": "code",
      "metadata": {
        "id": "Gq7blJqXCwu8",
        "colab_type": "code",
        "colab": {
          "base_uri": "https://localhost:8080/",
          "height": 204
        },
        "outputId": "31f574a7-2a26-4e57-b9bc-79cb9d8a8737"
      },
      "source": [
        "shops_df.head()"
      ],
      "execution_count": null,
      "outputs": [
        {
          "output_type": "execute_result",
          "data": {
            "text/html": [
              "<div>\n",
              "<style scoped>\n",
              "    .dataframe tbody tr th:only-of-type {\n",
              "        vertical-align: middle;\n",
              "    }\n",
              "\n",
              "    .dataframe tbody tr th {\n",
              "        vertical-align: top;\n",
              "    }\n",
              "\n",
              "    .dataframe thead th {\n",
              "        text-align: right;\n",
              "    }\n",
              "</style>\n",
              "<table border=\"1\" class=\"dataframe\">\n",
              "  <thead>\n",
              "    <tr style=\"text-align: right;\">\n",
              "      <th></th>\n",
              "      <th>shop_name</th>\n",
              "      <th>shop_id</th>\n",
              "    </tr>\n",
              "  </thead>\n",
              "  <tbody>\n",
              "    <tr>\n",
              "      <th>0</th>\n",
              "      <td>!Якутск Орджоникидзе, 56 фран</td>\n",
              "      <td>0</td>\n",
              "    </tr>\n",
              "    <tr>\n",
              "      <th>1</th>\n",
              "      <td>!Якутск ТЦ \"Центральный\" фран</td>\n",
              "      <td>1</td>\n",
              "    </tr>\n",
              "    <tr>\n",
              "      <th>2</th>\n",
              "      <td>Адыгея ТЦ \"Мега\"</td>\n",
              "      <td>2</td>\n",
              "    </tr>\n",
              "    <tr>\n",
              "      <th>3</th>\n",
              "      <td>Балашиха ТРК \"Октябрь-Киномир\"</td>\n",
              "      <td>3</td>\n",
              "    </tr>\n",
              "    <tr>\n",
              "      <th>4</th>\n",
              "      <td>Волжский ТЦ \"Волга Молл\"</td>\n",
              "      <td>4</td>\n",
              "    </tr>\n",
              "  </tbody>\n",
              "</table>\n",
              "</div>"
            ],
            "text/plain": [
              "                        shop_name  shop_id\n",
              "0   !Якутск Орджоникидзе, 56 фран        0\n",
              "1   !Якутск ТЦ \"Центральный\" фран        1\n",
              "2                Адыгея ТЦ \"Мега\"        2\n",
              "3  Балашиха ТРК \"Октябрь-Киномир\"        3\n",
              "4        Волжский ТЦ \"Волга Молл\"        4"
            ]
          },
          "metadata": {
            "tags": []
          },
          "execution_count": 5
        }
      ]
    },
    {
      "cell_type": "code",
      "metadata": {
        "id": "z_3irDKQCuvf",
        "colab_type": "code",
        "colab": {
          "base_uri": "https://localhost:8080/",
          "height": 1000
        },
        "outputId": "e995e9e5-bb17-4354-841b-d794622dffa3"
      },
      "source": [
        "#extract city from shop_name\n",
        "shops_df['city'] = shops_df.shop_name.str.split(expand=True)[0]\n",
        "shops_df['city'].unique()"
      ],
      "execution_count": null,
      "outputs": [
        {
          "output_type": "execute_result",
          "data": {
            "text/plain": [
              "0              !Якутск\n",
              "1              !Якутск\n",
              "2               Адыгея\n",
              "3             Балашиха\n",
              "4             Волжский\n",
              "5              Вологда\n",
              "6              Воронеж\n",
              "7              Воронеж\n",
              "8              Воронеж\n",
              "9             Выездная\n",
              "10           Жуковский\n",
              "11           Жуковский\n",
              "12    Интернет-магазин\n",
              "13              Казань\n",
              "14              Казань\n",
              "15              Калуга\n",
              "16             Коломна\n",
              "17          Красноярск\n",
              "18          Красноярск\n",
              "19               Курск\n",
              "20              Москва\n",
              "21              Москва\n",
              "22              Москва\n",
              "23              Москва\n",
              "24              Москва\n",
              "25              Москва\n",
              "26              Москва\n",
              "27              Москва\n",
              "28              Москва\n",
              "29              Москва\n",
              "30              Москва\n",
              "31              Москва\n",
              "32              Москва\n",
              "33              Мытищи\n",
              "34          Н.Новгород\n",
              "35          Н.Новгород\n",
              "36         Новосибирск\n",
              "37         Новосибирск\n",
              "38                Омск\n",
              "39        РостовНаДону\n",
              "40        РостовНаДону\n",
              "41        РостовНаДону\n",
              "42                 СПб\n",
              "43                 СПб\n",
              "44              Самара\n",
              "45              Самара\n",
              "46             Сергиев\n",
              "47              Сургут\n",
              "48               Томск\n",
              "49              Тюмень\n",
              "50              Тюмень\n",
              "51              Тюмень\n",
              "52                 Уфа\n",
              "53                 Уфа\n",
              "54               Химки\n",
              "55            Цифровой\n",
              "56               Чехов\n",
              "57              Якутск\n",
              "58              Якутск\n",
              "59           Ярославль\n",
              "Name: city, dtype: object"
            ]
          },
          "metadata": {
            "tags": []
          },
          "execution_count": 6
        }
      ]
    },
    {
      "cell_type": "markdown",
      "metadata": {
        "id": "8oZJoUMWkbbN",
        "colab_type": "text"
      },
      "source": [
        "We can see the city Якутск is repeated, so I changed it before doing an ordinal label encoding"
      ]
    },
    {
      "cell_type": "code",
      "metadata": {
        "id": "MaXHlo9_Vjb6",
        "colab_type": "code",
        "colab": {
          "base_uri": "https://localhost:8080/",
          "height": 1000
        },
        "outputId": "38f87424-2eb2-4a0b-8ba1-40326f349b39"
      },
      "source": [
        "shops_df['city'] = shops_df.city.str.replace(\"!Якутск\", \"Якутск\")\n",
        "city_ord = ce.OrdinalEncoder()\n",
        "shops_df['city_ord'] = city_ord.fit_transform(shops_df.city)\n",
        "shops_df"
      ],
      "execution_count": null,
      "outputs": [
        {
          "output_type": "execute_result",
          "data": {
            "text/html": [
              "<div>\n",
              "<style scoped>\n",
              "    .dataframe tbody tr th:only-of-type {\n",
              "        vertical-align: middle;\n",
              "    }\n",
              "\n",
              "    .dataframe tbody tr th {\n",
              "        vertical-align: top;\n",
              "    }\n",
              "\n",
              "    .dataframe thead th {\n",
              "        text-align: right;\n",
              "    }\n",
              "</style>\n",
              "<table border=\"1\" class=\"dataframe\">\n",
              "  <thead>\n",
              "    <tr style=\"text-align: right;\">\n",
              "      <th></th>\n",
              "      <th>shop_name</th>\n",
              "      <th>shop_id</th>\n",
              "      <th>city</th>\n",
              "      <th>city_ord</th>\n",
              "    </tr>\n",
              "  </thead>\n",
              "  <tbody>\n",
              "    <tr>\n",
              "      <th>0</th>\n",
              "      <td>!Якутск Орджоникидзе, 56 фран</td>\n",
              "      <td>0</td>\n",
              "      <td>Якутск</td>\n",
              "      <td>1</td>\n",
              "    </tr>\n",
              "    <tr>\n",
              "      <th>1</th>\n",
              "      <td>!Якутск ТЦ \"Центральный\" фран</td>\n",
              "      <td>1</td>\n",
              "      <td>Якутск</td>\n",
              "      <td>1</td>\n",
              "    </tr>\n",
              "    <tr>\n",
              "      <th>2</th>\n",
              "      <td>Адыгея ТЦ \"Мега\"</td>\n",
              "      <td>2</td>\n",
              "      <td>Адыгея</td>\n",
              "      <td>2</td>\n",
              "    </tr>\n",
              "    <tr>\n",
              "      <th>3</th>\n",
              "      <td>Балашиха ТРК \"Октябрь-Киномир\"</td>\n",
              "      <td>3</td>\n",
              "      <td>Балашиха</td>\n",
              "      <td>3</td>\n",
              "    </tr>\n",
              "    <tr>\n",
              "      <th>4</th>\n",
              "      <td>Волжский ТЦ \"Волга Молл\"</td>\n",
              "      <td>4</td>\n",
              "      <td>Волжский</td>\n",
              "      <td>4</td>\n",
              "    </tr>\n",
              "    <tr>\n",
              "      <th>5</th>\n",
              "      <td>Вологда ТРЦ \"Мармелад\"</td>\n",
              "      <td>5</td>\n",
              "      <td>Вологда</td>\n",
              "      <td>5</td>\n",
              "    </tr>\n",
              "    <tr>\n",
              "      <th>6</th>\n",
              "      <td>Воронеж (Плехановская, 13)</td>\n",
              "      <td>6</td>\n",
              "      <td>Воронеж</td>\n",
              "      <td>6</td>\n",
              "    </tr>\n",
              "    <tr>\n",
              "      <th>7</th>\n",
              "      <td>Воронеж ТРЦ \"Максимир\"</td>\n",
              "      <td>7</td>\n",
              "      <td>Воронеж</td>\n",
              "      <td>6</td>\n",
              "    </tr>\n",
              "    <tr>\n",
              "      <th>8</th>\n",
              "      <td>Воронеж ТРЦ Сити-Парк \"Град\"</td>\n",
              "      <td>8</td>\n",
              "      <td>Воронеж</td>\n",
              "      <td>6</td>\n",
              "    </tr>\n",
              "    <tr>\n",
              "      <th>9</th>\n",
              "      <td>Выездная Торговля</td>\n",
              "      <td>9</td>\n",
              "      <td>Выездная</td>\n",
              "      <td>7</td>\n",
              "    </tr>\n",
              "    <tr>\n",
              "      <th>10</th>\n",
              "      <td>Жуковский ул. Чкалова 39м?</td>\n",
              "      <td>10</td>\n",
              "      <td>Жуковский</td>\n",
              "      <td>8</td>\n",
              "    </tr>\n",
              "    <tr>\n",
              "      <th>11</th>\n",
              "      <td>Жуковский ул. Чкалова 39м²</td>\n",
              "      <td>11</td>\n",
              "      <td>Жуковский</td>\n",
              "      <td>8</td>\n",
              "    </tr>\n",
              "    <tr>\n",
              "      <th>12</th>\n",
              "      <td>Интернет-магазин ЧС</td>\n",
              "      <td>12</td>\n",
              "      <td>Интернет-магазин</td>\n",
              "      <td>9</td>\n",
              "    </tr>\n",
              "    <tr>\n",
              "      <th>13</th>\n",
              "      <td>Казань ТЦ \"Бехетле\"</td>\n",
              "      <td>13</td>\n",
              "      <td>Казань</td>\n",
              "      <td>10</td>\n",
              "    </tr>\n",
              "    <tr>\n",
              "      <th>14</th>\n",
              "      <td>Казань ТЦ \"ПаркХаус\" II</td>\n",
              "      <td>14</td>\n",
              "      <td>Казань</td>\n",
              "      <td>10</td>\n",
              "    </tr>\n",
              "    <tr>\n",
              "      <th>15</th>\n",
              "      <td>Калуга ТРЦ \"XXI век\"</td>\n",
              "      <td>15</td>\n",
              "      <td>Калуга</td>\n",
              "      <td>11</td>\n",
              "    </tr>\n",
              "    <tr>\n",
              "      <th>16</th>\n",
              "      <td>Коломна ТЦ \"Рио\"</td>\n",
              "      <td>16</td>\n",
              "      <td>Коломна</td>\n",
              "      <td>12</td>\n",
              "    </tr>\n",
              "    <tr>\n",
              "      <th>17</th>\n",
              "      <td>Красноярск ТЦ \"Взлетка Плаза\"</td>\n",
              "      <td>17</td>\n",
              "      <td>Красноярск</td>\n",
              "      <td>13</td>\n",
              "    </tr>\n",
              "    <tr>\n",
              "      <th>18</th>\n",
              "      <td>Красноярск ТЦ \"Июнь\"</td>\n",
              "      <td>18</td>\n",
              "      <td>Красноярск</td>\n",
              "      <td>13</td>\n",
              "    </tr>\n",
              "    <tr>\n",
              "      <th>19</th>\n",
              "      <td>Курск ТЦ \"Пушкинский\"</td>\n",
              "      <td>19</td>\n",
              "      <td>Курск</td>\n",
              "      <td>14</td>\n",
              "    </tr>\n",
              "    <tr>\n",
              "      <th>20</th>\n",
              "      <td>Москва \"Распродажа\"</td>\n",
              "      <td>20</td>\n",
              "      <td>Москва</td>\n",
              "      <td>15</td>\n",
              "    </tr>\n",
              "    <tr>\n",
              "      <th>21</th>\n",
              "      <td>Москва МТРЦ \"Афи Молл\"</td>\n",
              "      <td>21</td>\n",
              "      <td>Москва</td>\n",
              "      <td>15</td>\n",
              "    </tr>\n",
              "    <tr>\n",
              "      <th>22</th>\n",
              "      <td>Москва Магазин С21</td>\n",
              "      <td>22</td>\n",
              "      <td>Москва</td>\n",
              "      <td>15</td>\n",
              "    </tr>\n",
              "    <tr>\n",
              "      <th>23</th>\n",
              "      <td>Москва ТК \"Буденовский\" (пав.А2)</td>\n",
              "      <td>23</td>\n",
              "      <td>Москва</td>\n",
              "      <td>15</td>\n",
              "    </tr>\n",
              "    <tr>\n",
              "      <th>24</th>\n",
              "      <td>Москва ТК \"Буденовский\" (пав.К7)</td>\n",
              "      <td>24</td>\n",
              "      <td>Москва</td>\n",
              "      <td>15</td>\n",
              "    </tr>\n",
              "    <tr>\n",
              "      <th>25</th>\n",
              "      <td>Москва ТРК \"Атриум\"</td>\n",
              "      <td>25</td>\n",
              "      <td>Москва</td>\n",
              "      <td>15</td>\n",
              "    </tr>\n",
              "    <tr>\n",
              "      <th>26</th>\n",
              "      <td>Москва ТЦ \"Ареал\" (Беляево)</td>\n",
              "      <td>26</td>\n",
              "      <td>Москва</td>\n",
              "      <td>15</td>\n",
              "    </tr>\n",
              "    <tr>\n",
              "      <th>27</th>\n",
              "      <td>Москва ТЦ \"МЕГА Белая Дача II\"</td>\n",
              "      <td>27</td>\n",
              "      <td>Москва</td>\n",
              "      <td>15</td>\n",
              "    </tr>\n",
              "    <tr>\n",
              "      <th>28</th>\n",
              "      <td>Москва ТЦ \"МЕГА Теплый Стан\" II</td>\n",
              "      <td>28</td>\n",
              "      <td>Москва</td>\n",
              "      <td>15</td>\n",
              "    </tr>\n",
              "    <tr>\n",
              "      <th>29</th>\n",
              "      <td>Москва ТЦ \"Новый век\" (Новокосино)</td>\n",
              "      <td>29</td>\n",
              "      <td>Москва</td>\n",
              "      <td>15</td>\n",
              "    </tr>\n",
              "    <tr>\n",
              "      <th>30</th>\n",
              "      <td>Москва ТЦ \"Перловский\"</td>\n",
              "      <td>30</td>\n",
              "      <td>Москва</td>\n",
              "      <td>15</td>\n",
              "    </tr>\n",
              "    <tr>\n",
              "      <th>31</th>\n",
              "      <td>Москва ТЦ \"Семеновский\"</td>\n",
              "      <td>31</td>\n",
              "      <td>Москва</td>\n",
              "      <td>15</td>\n",
              "    </tr>\n",
              "    <tr>\n",
              "      <th>32</th>\n",
              "      <td>Москва ТЦ \"Серебряный Дом\"</td>\n",
              "      <td>32</td>\n",
              "      <td>Москва</td>\n",
              "      <td>15</td>\n",
              "    </tr>\n",
              "    <tr>\n",
              "      <th>33</th>\n",
              "      <td>Мытищи ТРК \"XL-3\"</td>\n",
              "      <td>33</td>\n",
              "      <td>Мытищи</td>\n",
              "      <td>16</td>\n",
              "    </tr>\n",
              "    <tr>\n",
              "      <th>34</th>\n",
              "      <td>Н.Новгород ТРЦ \"РИО\"</td>\n",
              "      <td>34</td>\n",
              "      <td>Н.Новгород</td>\n",
              "      <td>17</td>\n",
              "    </tr>\n",
              "    <tr>\n",
              "      <th>35</th>\n",
              "      <td>Н.Новгород ТРЦ \"Фантастика\"</td>\n",
              "      <td>35</td>\n",
              "      <td>Н.Новгород</td>\n",
              "      <td>17</td>\n",
              "    </tr>\n",
              "    <tr>\n",
              "      <th>36</th>\n",
              "      <td>Новосибирск ТРЦ \"Галерея Новосибирск\"</td>\n",
              "      <td>36</td>\n",
              "      <td>Новосибирск</td>\n",
              "      <td>18</td>\n",
              "    </tr>\n",
              "    <tr>\n",
              "      <th>37</th>\n",
              "      <td>Новосибирск ТЦ \"Мега\"</td>\n",
              "      <td>37</td>\n",
              "      <td>Новосибирск</td>\n",
              "      <td>18</td>\n",
              "    </tr>\n",
              "    <tr>\n",
              "      <th>38</th>\n",
              "      <td>Омск ТЦ \"Мега\"</td>\n",
              "      <td>38</td>\n",
              "      <td>Омск</td>\n",
              "      <td>19</td>\n",
              "    </tr>\n",
              "    <tr>\n",
              "      <th>39</th>\n",
              "      <td>РостовНаДону ТРК \"Мегацентр Горизонт\"</td>\n",
              "      <td>39</td>\n",
              "      <td>РостовНаДону</td>\n",
              "      <td>20</td>\n",
              "    </tr>\n",
              "    <tr>\n",
              "      <th>40</th>\n",
              "      <td>РостовНаДону ТРК \"Мегацентр Горизонт\" Островной</td>\n",
              "      <td>40</td>\n",
              "      <td>РостовНаДону</td>\n",
              "      <td>20</td>\n",
              "    </tr>\n",
              "    <tr>\n",
              "      <th>41</th>\n",
              "      <td>РостовНаДону ТЦ \"Мега\"</td>\n",
              "      <td>41</td>\n",
              "      <td>РостовНаДону</td>\n",
              "      <td>20</td>\n",
              "    </tr>\n",
              "    <tr>\n",
              "      <th>42</th>\n",
              "      <td>СПб ТК \"Невский Центр\"</td>\n",
              "      <td>42</td>\n",
              "      <td>СПб</td>\n",
              "      <td>21</td>\n",
              "    </tr>\n",
              "    <tr>\n",
              "      <th>43</th>\n",
              "      <td>СПб ТК \"Сенная\"</td>\n",
              "      <td>43</td>\n",
              "      <td>СПб</td>\n",
              "      <td>21</td>\n",
              "    </tr>\n",
              "    <tr>\n",
              "      <th>44</th>\n",
              "      <td>Самара ТЦ \"Мелодия\"</td>\n",
              "      <td>44</td>\n",
              "      <td>Самара</td>\n",
              "      <td>22</td>\n",
              "    </tr>\n",
              "    <tr>\n",
              "      <th>45</th>\n",
              "      <td>Самара ТЦ \"ПаркХаус\"</td>\n",
              "      <td>45</td>\n",
              "      <td>Самара</td>\n",
              "      <td>22</td>\n",
              "    </tr>\n",
              "    <tr>\n",
              "      <th>46</th>\n",
              "      <td>Сергиев Посад ТЦ \"7Я\"</td>\n",
              "      <td>46</td>\n",
              "      <td>Сергиев</td>\n",
              "      <td>23</td>\n",
              "    </tr>\n",
              "    <tr>\n",
              "      <th>47</th>\n",
              "      <td>Сургут ТРЦ \"Сити Молл\"</td>\n",
              "      <td>47</td>\n",
              "      <td>Сургут</td>\n",
              "      <td>24</td>\n",
              "    </tr>\n",
              "    <tr>\n",
              "      <th>48</th>\n",
              "      <td>Томск ТРЦ \"Изумрудный Город\"</td>\n",
              "      <td>48</td>\n",
              "      <td>Томск</td>\n",
              "      <td>25</td>\n",
              "    </tr>\n",
              "    <tr>\n",
              "      <th>49</th>\n",
              "      <td>Тюмень ТРЦ \"Кристалл\"</td>\n",
              "      <td>49</td>\n",
              "      <td>Тюмень</td>\n",
              "      <td>26</td>\n",
              "    </tr>\n",
              "    <tr>\n",
              "      <th>50</th>\n",
              "      <td>Тюмень ТЦ \"Гудвин\"</td>\n",
              "      <td>50</td>\n",
              "      <td>Тюмень</td>\n",
              "      <td>26</td>\n",
              "    </tr>\n",
              "    <tr>\n",
              "      <th>51</th>\n",
              "      <td>Тюмень ТЦ \"Зеленый Берег\"</td>\n",
              "      <td>51</td>\n",
              "      <td>Тюмень</td>\n",
              "      <td>26</td>\n",
              "    </tr>\n",
              "    <tr>\n",
              "      <th>52</th>\n",
              "      <td>Уфа ТК \"Центральный\"</td>\n",
              "      <td>52</td>\n",
              "      <td>Уфа</td>\n",
              "      <td>27</td>\n",
              "    </tr>\n",
              "    <tr>\n",
              "      <th>53</th>\n",
              "      <td>Уфа ТЦ \"Семья\" 2</td>\n",
              "      <td>53</td>\n",
              "      <td>Уфа</td>\n",
              "      <td>27</td>\n",
              "    </tr>\n",
              "    <tr>\n",
              "      <th>54</th>\n",
              "      <td>Химки ТЦ \"Мега\"</td>\n",
              "      <td>54</td>\n",
              "      <td>Химки</td>\n",
              "      <td>28</td>\n",
              "    </tr>\n",
              "    <tr>\n",
              "      <th>55</th>\n",
              "      <td>Цифровой склад 1С-Онлайн</td>\n",
              "      <td>55</td>\n",
              "      <td>Цифровой</td>\n",
              "      <td>29</td>\n",
              "    </tr>\n",
              "    <tr>\n",
              "      <th>56</th>\n",
              "      <td>Чехов ТРЦ \"Карнавал\"</td>\n",
              "      <td>56</td>\n",
              "      <td>Чехов</td>\n",
              "      <td>30</td>\n",
              "    </tr>\n",
              "    <tr>\n",
              "      <th>57</th>\n",
              "      <td>Якутск Орджоникидзе, 56</td>\n",
              "      <td>57</td>\n",
              "      <td>Якутск</td>\n",
              "      <td>1</td>\n",
              "    </tr>\n",
              "    <tr>\n",
              "      <th>58</th>\n",
              "      <td>Якутск ТЦ \"Центральный\"</td>\n",
              "      <td>58</td>\n",
              "      <td>Якутск</td>\n",
              "      <td>1</td>\n",
              "    </tr>\n",
              "    <tr>\n",
              "      <th>59</th>\n",
              "      <td>Ярославль ТЦ \"Альтаир\"</td>\n",
              "      <td>59</td>\n",
              "      <td>Ярославль</td>\n",
              "      <td>31</td>\n",
              "    </tr>\n",
              "  </tbody>\n",
              "</table>\n",
              "</div>"
            ],
            "text/plain": [
              "                                          shop_name  ...  city_ord\n",
              "0                     !Якутск Орджоникидзе, 56 фран  ...         1\n",
              "1                     !Якутск ТЦ \"Центральный\" фран  ...         1\n",
              "2                                  Адыгея ТЦ \"Мега\"  ...         2\n",
              "3                    Балашиха ТРК \"Октябрь-Киномир\"  ...         3\n",
              "4                          Волжский ТЦ \"Волга Молл\"  ...         4\n",
              "5                            Вологда ТРЦ \"Мармелад\"  ...         5\n",
              "6                        Воронеж (Плехановская, 13)  ...         6\n",
              "7                            Воронеж ТРЦ \"Максимир\"  ...         6\n",
              "8                      Воронеж ТРЦ Сити-Парк \"Град\"  ...         6\n",
              "9                                 Выездная Торговля  ...         7\n",
              "10                       Жуковский ул. Чкалова 39м?  ...         8\n",
              "11                       Жуковский ул. Чкалова 39м²  ...         8\n",
              "12                              Интернет-магазин ЧС  ...         9\n",
              "13                              Казань ТЦ \"Бехетле\"  ...        10\n",
              "14                          Казань ТЦ \"ПаркХаус\" II  ...        10\n",
              "15                             Калуга ТРЦ \"XXI век\"  ...        11\n",
              "16                                 Коломна ТЦ \"Рио\"  ...        12\n",
              "17                    Красноярск ТЦ \"Взлетка Плаза\"  ...        13\n",
              "18                             Красноярск ТЦ \"Июнь\"  ...        13\n",
              "19                            Курск ТЦ \"Пушкинский\"  ...        14\n",
              "20                              Москва \"Распродажа\"  ...        15\n",
              "21                           Москва МТРЦ \"Афи Молл\"  ...        15\n",
              "22                               Москва Магазин С21  ...        15\n",
              "23                 Москва ТК \"Буденовский\" (пав.А2)  ...        15\n",
              "24                 Москва ТК \"Буденовский\" (пав.К7)  ...        15\n",
              "25                              Москва ТРК \"Атриум\"  ...        15\n",
              "26                      Москва ТЦ \"Ареал\" (Беляево)  ...        15\n",
              "27                   Москва ТЦ \"МЕГА Белая Дача II\"  ...        15\n",
              "28                  Москва ТЦ \"МЕГА Теплый Стан\" II  ...        15\n",
              "29               Москва ТЦ \"Новый век\" (Новокосино)  ...        15\n",
              "30                           Москва ТЦ \"Перловский\"  ...        15\n",
              "31                          Москва ТЦ \"Семеновский\"  ...        15\n",
              "32                       Москва ТЦ \"Серебряный Дом\"  ...        15\n",
              "33                                Мытищи ТРК \"XL-3\"  ...        16\n",
              "34                             Н.Новгород ТРЦ \"РИО\"  ...        17\n",
              "35                      Н.Новгород ТРЦ \"Фантастика\"  ...        17\n",
              "36            Новосибирск ТРЦ \"Галерея Новосибирск\"  ...        18\n",
              "37                            Новосибирск ТЦ \"Мега\"  ...        18\n",
              "38                                   Омск ТЦ \"Мега\"  ...        19\n",
              "39            РостовНаДону ТРК \"Мегацентр Горизонт\"  ...        20\n",
              "40  РостовНаДону ТРК \"Мегацентр Горизонт\" Островной  ...        20\n",
              "41                           РостовНаДону ТЦ \"Мега\"  ...        20\n",
              "42                           СПб ТК \"Невский Центр\"  ...        21\n",
              "43                                  СПб ТК \"Сенная\"  ...        21\n",
              "44                              Самара ТЦ \"Мелодия\"  ...        22\n",
              "45                             Самара ТЦ \"ПаркХаус\"  ...        22\n",
              "46                            Сергиев Посад ТЦ \"7Я\"  ...        23\n",
              "47                           Сургут ТРЦ \"Сити Молл\"  ...        24\n",
              "48                     Томск ТРЦ \"Изумрудный Город\"  ...        25\n",
              "49                            Тюмень ТРЦ \"Кристалл\"  ...        26\n",
              "50                               Тюмень ТЦ \"Гудвин\"  ...        26\n",
              "51                        Тюмень ТЦ \"Зеленый Берег\"  ...        26\n",
              "52                             Уфа ТК \"Центральный\"  ...        27\n",
              "53                                 Уфа ТЦ \"Семья\" 2  ...        27\n",
              "54                                  Химки ТЦ \"Мега\"  ...        28\n",
              "55                         Цифровой склад 1С-Онлайн  ...        29\n",
              "56                             Чехов ТРЦ \"Карнавал\"  ...        30\n",
              "57                          Якутск Орджоникидзе, 56  ...         1\n",
              "58                          Якутск ТЦ \"Центральный\"  ...         1\n",
              "59                           Ярославль ТЦ \"Альтаир\"  ...        31\n",
              "\n",
              "[60 rows x 4 columns]"
            ]
          },
          "metadata": {
            "tags": []
          },
          "execution_count": 7
        }
      ]
    },
    {
      "cell_type": "markdown",
      "metadata": {
        "id": "BeuIETEvk7ua",
        "colab_type": "text"
      },
      "source": [
        "Three stores appear to be the same but have some differences in name, let's fix this on train and test data"
      ]
    },
    {
      "cell_type": "code",
      "metadata": {
        "id": "Hpaj2RVYVjcC",
        "colab_type": "code",
        "colab": {}
      },
      "source": [
        "# Якутск Орджоникидзе, 56\n",
        "sales_train_df.loc[sales_train_df.shop_id == 0, 'shop_id'] = 57\n",
        "test_df.loc[test_df.shop_id == 0, 'shop_id'] = 57\n",
        "# Якутск ТЦ \"Центральный\"\n",
        "sales_train_df.loc[sales_train_df.shop_id == 1, 'shop_id'] = 58\n",
        "test_df.loc[test_df.shop_id == 1, 'shop_id'] = 58\n",
        "# Жуковский ул. Чкалова 39м²\n",
        "sales_train_df.loc[sales_train_df.shop_id == 10, 'shop_id'] = 11\n",
        "test_df.loc[test_df.shop_id == 10, 'shop_id'] = 11\n",
        "shops_df.drop([0,1,10], inplace=True)"
      ],
      "execution_count": null,
      "outputs": []
    },
    {
      "cell_type": "markdown",
      "metadata": {
        "id": "ivKaPwqL5Iy4",
        "colab_type": "text"
      },
      "source": [
        "### Categories Data\n",
        "Categories are composed of a main and sub category separated by a '-'. I splitted this into 2 columns and did an ordinal encoding. Afterwards I joined this with the items dataframe."
      ]
    },
    {
      "cell_type": "code",
      "metadata": {
        "id": "ancWwNu56f3o",
        "colab_type": "code",
        "colab": {}
      },
      "source": [
        "categories_df.head()"
      ],
      "execution_count": null,
      "outputs": []
    },
    {
      "cell_type": "code",
      "metadata": {
        "id": "NMxY43eLVjcH",
        "colab_type": "code",
        "colab": {}
      },
      "source": [
        "categories_sub = categories_df.item_category_name.str.split('-', n=1, expand=True)\n",
        "categories_df[['main', 'secondary']] = categories_sub\n",
        "main_ord = ce.OrdinalEncoder()\n",
        "sub_ord = ce.OrdinalEncoder()\n",
        "category_ord = main_ord.fit_transform(categories_df.main)\n",
        "category_ord['sub'] = sub_ord.fit_transform(categories_df.secondary)\n",
        "categories_df[['main_category_ord', 'subcategory_ord']] = category_ord.astype(int)"
      ],
      "execution_count": null,
      "outputs": []
    },
    {
      "cell_type": "code",
      "metadata": {
        "id": "dlzXI9fpVjcR",
        "colab_type": "code",
        "colab": {}
      },
      "source": [
        "#join items_df with categories ordinal columns\n",
        "items_merged_df = items_df.merge(categories_df[['main_category_ord', 'subcategory_ord', 'item_category_id']], on='item_category_id')"
      ],
      "execution_count": null,
      "outputs": []
    },
    {
      "cell_type": "code",
      "metadata": {
        "id": "1bXlw92-VjcU",
        "colab_type": "code",
        "colab": {
          "base_uri": "https://localhost:8080/",
          "height": 204
        },
        "outputId": "801c6f16-0e47-4a15-a8b3-112a6ca9b14a"
      },
      "source": [
        "items_merged_df.head()"
      ],
      "execution_count": null,
      "outputs": [
        {
          "output_type": "execute_result",
          "data": {
            "text/html": [
              "<div>\n",
              "<style scoped>\n",
              "    .dataframe tbody tr th:only-of-type {\n",
              "        vertical-align: middle;\n",
              "    }\n",
              "\n",
              "    .dataframe tbody tr th {\n",
              "        vertical-align: top;\n",
              "    }\n",
              "\n",
              "    .dataframe thead th {\n",
              "        text-align: right;\n",
              "    }\n",
              "</style>\n",
              "<table border=\"1\" class=\"dataframe\">\n",
              "  <thead>\n",
              "    <tr style=\"text-align: right;\">\n",
              "      <th></th>\n",
              "      <th>item_name</th>\n",
              "      <th>item_id</th>\n",
              "      <th>item_category_id</th>\n",
              "      <th>main_category_ord</th>\n",
              "      <th>subcategory_ord</th>\n",
              "    </tr>\n",
              "  </thead>\n",
              "  <tbody>\n",
              "    <tr>\n",
              "      <th>0</th>\n",
              "      <td>! ВО ВЛАСТИ НАВАЖДЕНИЯ (ПЛАСТ.)         D</td>\n",
              "      <td>0</td>\n",
              "      <td>40</td>\n",
              "      <td>12</td>\n",
              "      <td>23</td>\n",
              "    </tr>\n",
              "    <tr>\n",
              "      <th>1</th>\n",
              "      <td>***В ЛУЧАХ СЛАВЫ   (UNV)                    D</td>\n",
              "      <td>2</td>\n",
              "      <td>40</td>\n",
              "      <td>12</td>\n",
              "      <td>23</td>\n",
              "    </tr>\n",
              "    <tr>\n",
              "      <th>2</th>\n",
              "      <td>***ГОЛУБАЯ ВОЛНА  (Univ)                      D</td>\n",
              "      <td>3</td>\n",
              "      <td>40</td>\n",
              "      <td>12</td>\n",
              "      <td>23</td>\n",
              "    </tr>\n",
              "    <tr>\n",
              "      <th>3</th>\n",
              "      <td>***КОРОБКА (СТЕКЛО)                       D</td>\n",
              "      <td>4</td>\n",
              "      <td>40</td>\n",
              "      <td>12</td>\n",
              "      <td>23</td>\n",
              "    </tr>\n",
              "    <tr>\n",
              "      <th>4</th>\n",
              "      <td>***НОВЫЕ АМЕРИКАНСКИЕ ГРАФФИТИ  (UNI)         ...</td>\n",
              "      <td>5</td>\n",
              "      <td>40</td>\n",
              "      <td>12</td>\n",
              "      <td>23</td>\n",
              "    </tr>\n",
              "  </tbody>\n",
              "</table>\n",
              "</div>"
            ],
            "text/plain": [
              "                                           item_name  ...  subcategory_ord\n",
              "0          ! ВО ВЛАСТИ НАВАЖДЕНИЯ (ПЛАСТ.)         D  ...               23\n",
              "1      ***В ЛУЧАХ СЛАВЫ   (UNV)                    D  ...               23\n",
              "2    ***ГОЛУБАЯ ВОЛНА  (Univ)                      D  ...               23\n",
              "3        ***КОРОБКА (СТЕКЛО)                       D  ...               23\n",
              "4  ***НОВЫЕ АМЕРИКАНСКИЕ ГРАФФИТИ  (UNI)         ...  ...               23\n",
              "\n",
              "[5 rows x 5 columns]"
            ]
          },
          "metadata": {
            "tags": []
          },
          "execution_count": 11
        }
      ]
    },
    {
      "cell_type": "markdown",
      "metadata": {
        "id": "TmeIAgu_61U3",
        "colab_type": "text"
      },
      "source": [
        "### Sales Data"
      ]
    },
    {
      "cell_type": "code",
      "metadata": {
        "id": "n8JOrXD6VjcW",
        "colab_type": "code",
        "colab": {
          "base_uri": "https://localhost:8080/",
          "height": 221
        },
        "outputId": "4e9b4d4f-ac53-4365-95cf-8418a364c52c"
      },
      "source": [
        "print(sales_train_df.shape)\n",
        "sales_train_df.head()"
      ],
      "execution_count": null,
      "outputs": [
        {
          "output_type": "stream",
          "text": [
            "(2935849, 6)\n"
          ],
          "name": "stdout"
        },
        {
          "output_type": "execute_result",
          "data": {
            "text/html": [
              "<div>\n",
              "<style scoped>\n",
              "    .dataframe tbody tr th:only-of-type {\n",
              "        vertical-align: middle;\n",
              "    }\n",
              "\n",
              "    .dataframe tbody tr th {\n",
              "        vertical-align: top;\n",
              "    }\n",
              "\n",
              "    .dataframe thead th {\n",
              "        text-align: right;\n",
              "    }\n",
              "</style>\n",
              "<table border=\"1\" class=\"dataframe\">\n",
              "  <thead>\n",
              "    <tr style=\"text-align: right;\">\n",
              "      <th></th>\n",
              "      <th>date</th>\n",
              "      <th>date_block_num</th>\n",
              "      <th>shop_id</th>\n",
              "      <th>item_id</th>\n",
              "      <th>item_price</th>\n",
              "      <th>item_cnt_day</th>\n",
              "    </tr>\n",
              "  </thead>\n",
              "  <tbody>\n",
              "    <tr>\n",
              "      <th>0</th>\n",
              "      <td>02.01.2013</td>\n",
              "      <td>0</td>\n",
              "      <td>59</td>\n",
              "      <td>22154</td>\n",
              "      <td>999.00</td>\n",
              "      <td>1.0</td>\n",
              "    </tr>\n",
              "    <tr>\n",
              "      <th>1</th>\n",
              "      <td>03.01.2013</td>\n",
              "      <td>0</td>\n",
              "      <td>25</td>\n",
              "      <td>2552</td>\n",
              "      <td>899.00</td>\n",
              "      <td>1.0</td>\n",
              "    </tr>\n",
              "    <tr>\n",
              "      <th>2</th>\n",
              "      <td>05.01.2013</td>\n",
              "      <td>0</td>\n",
              "      <td>25</td>\n",
              "      <td>2552</td>\n",
              "      <td>899.00</td>\n",
              "      <td>-1.0</td>\n",
              "    </tr>\n",
              "    <tr>\n",
              "      <th>3</th>\n",
              "      <td>06.01.2013</td>\n",
              "      <td>0</td>\n",
              "      <td>25</td>\n",
              "      <td>2554</td>\n",
              "      <td>1709.05</td>\n",
              "      <td>1.0</td>\n",
              "    </tr>\n",
              "    <tr>\n",
              "      <th>4</th>\n",
              "      <td>15.01.2013</td>\n",
              "      <td>0</td>\n",
              "      <td>25</td>\n",
              "      <td>2555</td>\n",
              "      <td>1099.00</td>\n",
              "      <td>1.0</td>\n",
              "    </tr>\n",
              "  </tbody>\n",
              "</table>\n",
              "</div>"
            ],
            "text/plain": [
              "         date  date_block_num  shop_id  item_id  item_price  item_cnt_day\n",
              "0  02.01.2013               0       59    22154      999.00           1.0\n",
              "1  03.01.2013               0       25     2552      899.00           1.0\n",
              "2  05.01.2013               0       25     2552      899.00          -1.0\n",
              "3  06.01.2013               0       25     2554     1709.05           1.0\n",
              "4  15.01.2013               0       25     2555     1099.00           1.0"
            ]
          },
          "metadata": {
            "tags": []
          },
          "execution_count": 12
        }
      ]
    },
    {
      "cell_type": "markdown",
      "metadata": {
        "id": "S3grBAUM67aW",
        "colab_type": "text"
      },
      "source": [
        "Check distribution and drop outliers"
      ]
    },
    {
      "cell_type": "code",
      "metadata": {
        "id": "HQJv65zvVjcY",
        "colab_type": "code",
        "colab": {
          "base_uri": "https://localhost:8080/",
          "height": 560
        },
        "outputId": "6f2b4b96-f45c-4f48-b065-e57201bd11ea"
      },
      "source": [
        "plt.figure(figsize=(10,4))\n",
        "sns.boxplot(sales_train_df.item_cnt_day)\n",
        "\n",
        "plt.figure(figsize=(10,4))\n",
        "sns.boxplot(sales_train_df.item_price)"
      ],
      "execution_count": null,
      "outputs": [
        {
          "output_type": "execute_result",
          "data": {
            "text/plain": [
              "<matplotlib.axes._subplots.AxesSubplot at 0x7f5488431828>"
            ]
          },
          "metadata": {
            "tags": []
          },
          "execution_count": 13
        },
        {
          "output_type": "display_data",
          "data": {
            "image/png": "[encoded data removed]",
            "text/plain": [
              "<Figure size 720x288 with 1 Axes>"
            ]
          },
          "metadata": {
            "tags": [],
            "needs_background": "light"
          }
        },
        {
          "output_type": "display_data",
          "data": {
            "image/png": "[encoded data removed]",
            "text/plain": [
              "<Figure size 720x288 with 1 Axes>"
            ]
          },
          "metadata": {
            "tags": [],
            "needs_background": "light"
          }
        }
      ]
    },
    {
      "cell_type": "code",
      "metadata": {
        "id": "G6lioL--Vjca",
        "colab_type": "code",
        "colab": {
          "base_uri": "https://localhost:8080/",
          "height": 34
        },
        "outputId": "1e3a9d6c-28bd-4c18-ce99-bde493980922"
      },
      "source": [
        "sales_train_df = sales_train_df[sales_train_df.item_price<100000]\n",
        "sales_train_df = sales_train_df[sales_train_df.item_cnt_day<1000]\n",
        "sales_train_df.shape"
      ],
      "execution_count": null,
      "outputs": [
        {
          "output_type": "execute_result",
          "data": {
            "text/plain": [
              "(2935846, 6)"
            ]
          },
          "metadata": {
            "tags": []
          },
          "execution_count": 14
        }
      ]
    },
    {
      "cell_type": "code",
      "metadata": {
        "id": "NC62QyCnVjcd",
        "colab_type": "code",
        "colab": {
          "base_uri": "https://localhost:8080/",
          "height": 182
        },
        "outputId": "8bf02f22-f54b-460e-d6d1-f855ffbd4f66"
      },
      "source": [
        "#check if there are negative prices\n",
        "sales_train_df[sales_train_df.item_price<0].item_price = sales_train_df.item_price.median()\n",
        "sales_train_df[sales_train_df.item_price<0]"
      ],
      "execution_count": null,
      "outputs": [
        {
          "output_type": "stream",
          "text": [
            "/usr/local/lib/python3.6/dist-packages/pandas/core/generic.py:5303: SettingWithCopyWarning: \n",
            "A value is trying to be set on a copy of a slice from a DataFrame.\n",
            "Try using .loc[row_indexer,col_indexer] = value instead\n",
            "\n",
            "See the caveats in the documentation: https://pandas.pydata.org/pandas-docs/stable/user_guide/indexing.html#returning-a-view-versus-a-copy\n",
            "  self[name] = value\n"
          ],
          "name": "stderr"
        },
        {
          "output_type": "execute_result",
          "data": {
            "text/html": [
              "<div>\n",
              "<style scoped>\n",
              "    .dataframe tbody tr th:only-of-type {\n",
              "        vertical-align: middle;\n",
              "    }\n",
              "\n",
              "    .dataframe tbody tr th {\n",
              "        vertical-align: top;\n",
              "    }\n",
              "\n",
              "    .dataframe thead th {\n",
              "        text-align: right;\n",
              "    }\n",
              "</style>\n",
              "<table border=\"1\" class=\"dataframe\">\n",
              "  <thead>\n",
              "    <tr style=\"text-align: right;\">\n",
              "      <th></th>\n",
              "      <th>date</th>\n",
              "      <th>date_block_num</th>\n",
              "      <th>shop_id</th>\n",
              "      <th>item_id</th>\n",
              "      <th>item_price</th>\n",
              "      <th>item_cnt_day</th>\n",
              "    </tr>\n",
              "  </thead>\n",
              "  <tbody>\n",
              "    <tr>\n",
              "      <th>484683</th>\n",
              "      <td>15.05.2013</td>\n",
              "      <td>4</td>\n",
              "      <td>32</td>\n",
              "      <td>2973</td>\n",
              "      <td>-1.0</td>\n",
              "      <td>1.0</td>\n",
              "    </tr>\n",
              "  </tbody>\n",
              "</table>\n",
              "</div>"
            ],
            "text/plain": [
              "              date  date_block_num  shop_id  item_id  item_price  item_cnt_day\n",
              "484683  15.05.2013               4       32     2973        -1.0           1.0"
            ]
          },
          "metadata": {
            "tags": []
          },
          "execution_count": 15
        }
      ]
    },
    {
      "cell_type": "code",
      "metadata": {
        "id": "_5Sx9e7RVjcj",
        "colab_type": "code",
        "colab": {
          "base_uri": "https://localhost:8080/",
          "height": 49
        },
        "outputId": "ad815a31-67b9-4706-d856-4d06fd228203"
      },
      "source": [
        "#replace with item price with median price for the specific shop and month\n",
        "median = sales_train_df[(sales_train_df.shop_id==32)&(sales_train_df.item_id==2973)&(sales_train_df.date_block_num==4)&(sales_train_df.item_price>0)].item_price.median()\n",
        "sales_train_df.loc[sales_train_df.item_price<0, 'item_price'] = median\n",
        "sales_train_df[sales_train_df.item_price<0]"
      ],
      "execution_count": null,
      "outputs": [
        {
          "output_type": "execute_result",
          "data": {
            "text/html": [
              "<div>\n",
              "<style scoped>\n",
              "    .dataframe tbody tr th:only-of-type {\n",
              "        vertical-align: middle;\n",
              "    }\n",
              "\n",
              "    .dataframe tbody tr th {\n",
              "        vertical-align: top;\n",
              "    }\n",
              "\n",
              "    .dataframe thead th {\n",
              "        text-align: right;\n",
              "    }\n",
              "</style>\n",
              "<table border=\"1\" class=\"dataframe\">\n",
              "  <thead>\n",
              "    <tr style=\"text-align: right;\">\n",
              "      <th></th>\n",
              "      <th>date</th>\n",
              "      <th>date_block_num</th>\n",
              "      <th>shop_id</th>\n",
              "      <th>item_id</th>\n",
              "      <th>item_price</th>\n",
              "      <th>item_cnt_day</th>\n",
              "    </tr>\n",
              "  </thead>\n",
              "  <tbody>\n",
              "  </tbody>\n",
              "</table>\n",
              "</div>"
            ],
            "text/plain": [
              "Empty DataFrame\n",
              "Columns: [date, date_block_num, shop_id, item_id, item_price, item_cnt_day]\n",
              "Index: []"
            ]
          },
          "metadata": {
            "tags": []
          },
          "execution_count": 16
        }
      ]
    },
    {
      "cell_type": "code",
      "metadata": {
        "id": "Mj8lJtlUVjcl",
        "colab_type": "code",
        "colab": {
          "base_uri": "https://localhost:8080/",
          "height": 68
        },
        "outputId": "7448f203-aba2-49f8-f994-f22f8a957879"
      },
      "source": [
        "# Removing duplicates from Sales train dataset\n",
        "subset = ['date','date_block_num','shop_id','item_id','item_cnt_day']\n",
        "sales_train_df.duplicated(subset=subset).value_counts()"
      ],
      "execution_count": null,
      "outputs": [
        {
          "output_type": "execute_result",
          "data": {
            "text/plain": [
              "False    2935822\n",
              "True          24\n",
              "dtype: int64"
            ]
          },
          "metadata": {
            "tags": []
          },
          "execution_count": 17
        }
      ]
    },
    {
      "cell_type": "code",
      "metadata": {
        "id": "0jiQ32jiVjcn",
        "colab_type": "code",
        "colab": {}
      },
      "source": [
        "sales_train_df.drop_duplicates(subset=subset,inplace=True)"
      ],
      "execution_count": null,
      "outputs": []
    },
    {
      "cell_type": "code",
      "metadata": {
        "id": "L3C8s2e-Vjcp",
        "colab_type": "code",
        "colab": {}
      },
      "source": [
        "sales_train_df['revenue'] = sales_train_df.item_cnt_day*sales_train_df.item_price"
      ],
      "execution_count": null,
      "outputs": []
    },
    {
      "cell_type": "markdown",
      "metadata": {
        "id": "RXIRtKaE7bc2",
        "colab_type": "text"
      },
      "source": [
        "### Feature engineering\n",
        "Test set is a product of some shops and some items within 34 month. There are 5100 items * 42 shops = 214200 pairs. 363 items are new compared to the train. Hence, for the most of the items in the test set target value should be zero. In the other hand train set contains only pairs which were sold or returned in the past. Tha main idea is to calculate monthly sales and extend it with zero sales for each unique pair within the month. This way train data will be similar to test data."
      ]
    },
    {
      "cell_type": "code",
      "metadata": {
        "id": "w8F4_KbbVjct",
        "colab_type": "code",
        "colab": {
          "base_uri": "https://localhost:8080/",
          "height": 34
        },
        "outputId": "3b3866ef-ac39-49c7-e52e-1edc9aad18e9"
      },
      "source": [
        "matrix = []\n",
        "cols = ['date_block_num','shop_id','item_id']\n",
        "for i in range(34):\n",
        "    sales = sales_train_df[sales_train_df.date_block_num==i]\n",
        "    matrix.append(np.array(list(product([i], sales.shop_id.unique(), sales.item_id.unique())), dtype='int16'))\n",
        "    \n",
        "matrix = pd.DataFrame(np.vstack(matrix), columns=cols)\n",
        "matrix['date_block_num'] = matrix['date_block_num'].astype(np.int8)\n",
        "matrix['shop_id'] = matrix['shop_id'].astype(np.int8)\n",
        "matrix['item_id'] = matrix['item_id'].astype(np.int16)\n",
        "matrix.sort_values(cols,inplace=True)\n",
        "matrix.date_block_num.max()"
      ],
      "execution_count": null,
      "outputs": [
        {
          "output_type": "execute_result",
          "data": {
            "text/plain": [
              "33"
            ]
          },
          "metadata": {
            "tags": []
          },
          "execution_count": 20
        }
      ]
    },
    {
      "cell_type": "code",
      "metadata": {
        "id": "_1XAcmjfVjcx",
        "colab_type": "code",
        "colab": {}
      },
      "source": [
        "#matrix.to_csv(\"shop_items_comb_per_month.csv\")\n",
        "#matrix=pd.read_csv(\"shop_items_comb_per_month.csv\")\n",
        "#matrix[matrix.date_block_num==0]"
      ],
      "execution_count": null,
      "outputs": []
    },
    {
      "cell_type": "markdown",
      "metadata": {
        "id": "8YCDldE38F57",
        "colab_type": "text"
      },
      "source": [
        "Aggregate train set by shop/item pairs to calculate target aggregates, then clip(0,20) target value. This way train target will be similar to the test predictions."
      ]
    },
    {
      "cell_type": "code",
      "metadata": {
        "id": "jgKAwsn_Vjc1",
        "colab_type": "code",
        "colab": {
          "base_uri": "https://localhost:8080/",
          "height": 204
        },
        "outputId": "3827581a-f458-4c6d-d0e9-6df60051939a"
      },
      "source": [
        "cols = ['date_block_num','shop_id','item_id']\n",
        "train_grouped_df = sales_train_df.groupby(cols).item_cnt_day.sum().reset_index()\n",
        "train_grouped_df.rename(columns={'item_cnt_day':'item_cnt_month'}, inplace=True)\n",
        "\n",
        "matrix = pd.merge(matrix, train_grouped_df, on=cols, how='left')\n",
        "matrix['item_cnt_month'] = (matrix['item_cnt_month']\n",
        "                                .fillna(0)\n",
        "                                .clip(0,20) # NB clip target here\n",
        "                                .astype(np.float16))\n",
        "matrix.head()"
      ],
      "execution_count": null,
      "outputs": [
        {
          "output_type": "execute_result",
          "data": {
            "text/html": [
              "<div>\n",
              "<style scoped>\n",
              "    .dataframe tbody tr th:only-of-type {\n",
              "        vertical-align: middle;\n",
              "    }\n",
              "\n",
              "    .dataframe tbody tr th {\n",
              "        vertical-align: top;\n",
              "    }\n",
              "\n",
              "    .dataframe thead th {\n",
              "        text-align: right;\n",
              "    }\n",
              "</style>\n",
              "<table border=\"1\" class=\"dataframe\">\n",
              "  <thead>\n",
              "    <tr style=\"text-align: right;\">\n",
              "      <th></th>\n",
              "      <th>date_block_num</th>\n",
              "      <th>shop_id</th>\n",
              "      <th>item_id</th>\n",
              "      <th>item_cnt_month</th>\n",
              "    </tr>\n",
              "  </thead>\n",
              "  <tbody>\n",
              "    <tr>\n",
              "      <th>0</th>\n",
              "      <td>0</td>\n",
              "      <td>2</td>\n",
              "      <td>19</td>\n",
              "      <td>0.0</td>\n",
              "    </tr>\n",
              "    <tr>\n",
              "      <th>1</th>\n",
              "      <td>0</td>\n",
              "      <td>2</td>\n",
              "      <td>27</td>\n",
              "      <td>1.0</td>\n",
              "    </tr>\n",
              "    <tr>\n",
              "      <th>2</th>\n",
              "      <td>0</td>\n",
              "      <td>2</td>\n",
              "      <td>28</td>\n",
              "      <td>0.0</td>\n",
              "    </tr>\n",
              "    <tr>\n",
              "      <th>3</th>\n",
              "      <td>0</td>\n",
              "      <td>2</td>\n",
              "      <td>29</td>\n",
              "      <td>0.0</td>\n",
              "    </tr>\n",
              "    <tr>\n",
              "      <th>4</th>\n",
              "      <td>0</td>\n",
              "      <td>2</td>\n",
              "      <td>32</td>\n",
              "      <td>0.0</td>\n",
              "    </tr>\n",
              "  </tbody>\n",
              "</table>\n",
              "</div>"
            ],
            "text/plain": [
              "   date_block_num  shop_id  item_id  item_cnt_month\n",
              "0               0        2       19             0.0\n",
              "1               0        2       27             1.0\n",
              "2               0        2       28             0.0\n",
              "3               0        2       29             0.0\n",
              "4               0        2       32             0.0"
            ]
          },
          "metadata": {
            "tags": []
          },
          "execution_count": 22
        }
      ]
    },
    {
      "cell_type": "code",
      "metadata": {
        "id": "dnJk5H0NVjc4",
        "colab_type": "code",
        "colab": {}
      },
      "source": [
        "#Add test set to matrix to add the features to both data sets\n",
        "test_df['date_block_num'] = 34\n",
        "matrix = pd.concat([matrix, test_df], ignore_index=True, sort=False, keys=cols)\n",
        "matrix.fillna(0, inplace=True)"
      ],
      "execution_count": null,
      "outputs": []
    },
    {
      "cell_type": "code",
      "metadata": {
        "id": "4BxXYuwQVjc6",
        "colab_type": "code",
        "colab": {}
      },
      "source": [
        "#function for creating lagged features\n",
        "def lag_feature(df, lags, col):\n",
        "    tmp = df[['date_block_num','shop_id','item_id',col]]\n",
        "    for i in lags:\n",
        "        shifted = tmp.copy()\n",
        "        shifted.columns = ['date_block_num','shop_id','item_id', col+'_lag_'+str(i)]\n",
        "        shifted['date_block_num'] += i\n",
        "        df = pd.merge(df, shifted, on=['date_block_num','shop_id','item_id'], how='left')\n",
        "    return df"
      ],
      "execution_count": null,
      "outputs": []
    },
    {
      "cell_type": "code",
      "metadata": {
        "id": "gV65g7OsVjc8",
        "colab_type": "code",
        "colab": {
          "base_uri": "https://localhost:8080/",
          "height": 153
        },
        "outputId": "2225e047-6f70-4bb5-b27f-e19cc260b8a2"
      },
      "source": [
        "#Add lag features of item_cnt_month for 12 months\n",
        "matrix= lag_feature(matrix, range(1,13), 'item_cnt_month')\n",
        "print(matrix.head())\n"
      ],
      "execution_count": null,
      "outputs": [
        {
          "output_type": "stream",
          "text": [
            "   date_block_num  shop_id  ...  item_cnt_month_lag_11  item_cnt_month_lag_12\n",
            "0               0        2  ...                    NaN                    NaN\n",
            "1               0        2  ...                    NaN                    NaN\n",
            "2               0        2  ...                    NaN                    NaN\n",
            "3               0        2  ...                    NaN                    NaN\n",
            "4               0        2  ...                    NaN                    NaN\n",
            "\n",
            "[5 rows x 17 columns]\n"
          ],
          "name": "stdout"
        }
      ]
    },
    {
      "cell_type": "code",
      "metadata": {
        "id": "LjAtmNwWVjdB",
        "colab_type": "code",
        "colab": {
          "base_uri": "https://localhost:8080/",
          "height": 153
        },
        "outputId": "07fc2d9e-5f2c-41a3-ab6f-3e8f672ee4ec"
      },
      "source": [
        "#join items to get the category id for every item\n",
        "matrix = matrix.merge(items_merged_df[['item_id', 'item_category_id','main_category_ord', 'subcategory_ord']], how='left', on='item_id')\n",
        "matrix = matrix.merge(shops_df[['shop_id', 'city_ord']], how='left', on='shop_id')\n",
        "matrix.columns"
      ],
      "execution_count": null,
      "outputs": [
        {
          "output_type": "execute_result",
          "data": {
            "text/plain": [
              "Index(['date_block_num', 'shop_id', 'item_id', 'item_cnt_month', 'ID',\n",
              "       'item_cnt_month_lag_1', 'item_cnt_month_lag_2', 'item_cnt_month_lag_3',\n",
              "       'item_cnt_month_lag_4', 'item_cnt_month_lag_5', 'item_cnt_month_lag_6',\n",
              "       'item_cnt_month_lag_7', 'item_cnt_month_lag_8', 'item_cnt_month_lag_9',\n",
              "       'item_cnt_month_lag_10', 'item_cnt_month_lag_11',\n",
              "       'item_cnt_month_lag_12', 'item_category_id', 'main_category_ord',\n",
              "       'subcategory_ord', 'city_ord'],\n",
              "      dtype='object')"
            ]
          },
          "metadata": {
            "tags": []
          },
          "execution_count": 26
        }
      ]
    },
    {
      "cell_type": "code",
      "metadata": {
        "id": "nrGHw6WXVjdG",
        "colab_type": "code",
        "colab": {
          "base_uri": "https://localhost:8080/",
          "height": 51
        },
        "outputId": "2ca3e6ff-0ec3-4012-a484-941c8fc0b026"
      },
      "source": [
        "#function to find the average of a lagged for feature for the 2nd and 3rd trimester\n",
        "def avg_trimester(df,col):\n",
        "    lag_2nd_trimester = [col+'_lag_4',col+'_lag_5',col+'_lag_6']\n",
        "    lag_3rd_trimester = [col+'_lag_7',col+'_lag_8',col+'_lag_9']\n",
        "    #lag_4th_trimester = [col+'_lag_10',col+'_lag_11',col+'_lag_12']\n",
        "    df[col+'_avg_lag_2nd_trimester'] = matrix[lag_2nd_trimester].mean(axis=1)\n",
        "    df[col+'_avg_lag_3rd_trimester'] = matrix[lag_3rd_trimester].mean(axis=1)\n",
        "    #df[col+'avg_lag_4th_trimester'] = matrix[lag_4th_trimester].mean(axis=1)\n",
        "    df.drop([col+'_lag_4', col+'_lag_5',col+'_lag_6', col+'_lag_7',col+'_lag_8',col+'_lag_9', col+'_lag_10',col+'_lag_11'], axis=1, inplace=True)\n",
        "    return df\n",
        "\n",
        "\n",
        "matrix = avg_trimester(matrix, 'item_cnt_month')"
      ],
      "execution_count": null,
      "outputs": [
        {
          "output_type": "stream",
          "text": [
            "/usr/local/lib/python3.6/dist-packages/pandas/core/nanops.py:116: RuntimeWarning: Mean of empty slice\n",
            "  result = bn_func(values, axis=axis, **kwds)\n"
          ],
          "name": "stderr"
        }
      ]
    },
    {
      "cell_type": "markdown",
      "metadata": {
        "id": "yfe2zUpK9M5g",
        "colab_type": "text"
      },
      "source": [
        "### Mean Encoding\n",
        "Added average item count per month and per month and store, for the previous three months, the 2nd and third semester and the 12th lag month. Also added the 1 month lag for average item count per city, category, main_category, and sub category."
      ]
    },
    {
      "cell_type": "code",
      "metadata": {
        "id": "KAHjm1ZuVjdM",
        "colab_type": "code",
        "colab": {
          "base_uri": "https://localhost:8080/",
          "height": 51
        },
        "outputId": "7929684a-2853-411f-a16b-07cfb7d88085"
      },
      "source": [
        "matrix['date_item_AIC'] = matrix.groupby(['date_block_num', 'item_id'])['item_cnt_month'].transform('mean')\n",
        "matrix['date_item_AIC'] = matrix['date_item_AIC'].astype(np.float16)\n",
        "matrix = lag_feature(matrix, range(1,13), 'date_item_AIC')\n",
        "matrix.drop(['date_item_AIC'], axis=1, inplace=True)\n",
        "matrix = avg_trimester(matrix, 'date_item_AIC')"
      ],
      "execution_count": null,
      "outputs": [
        {
          "output_type": "stream",
          "text": [
            "/usr/local/lib/python3.6/dist-packages/pandas/core/nanops.py:116: RuntimeWarning: Mean of empty slice\n",
            "  result = bn_func(values, axis=axis, **kwds)\n"
          ],
          "name": "stderr"
        }
      ]
    },
    {
      "cell_type": "code",
      "metadata": {
        "id": "priSiOL0VjdO",
        "colab_type": "code",
        "colab": {
          "base_uri": "https://localhost:8080/",
          "height": 51
        },
        "outputId": "c087f073-af95-46c3-9bd8-521ee8c9fd17"
      },
      "source": [
        "matrix['date_shop_AIC'] = matrix.groupby(['date_block_num', 'shop_id'])['item_cnt_month'].transform('mean')\n",
        "matrix['date_shop_AIC'] = matrix['date_shop_AIC'].astype(np.float16)\n",
        "matrix = lag_feature(matrix, range(1,13), 'date_shop_AIC')\n",
        "matrix.drop(['date_shop_AIC'], axis=1, inplace=True)\n",
        "matrix = avg_trimester(matrix, 'date_shop_AIC')"
      ],
      "execution_count": null,
      "outputs": [
        {
          "output_type": "stream",
          "text": [
            "/usr/local/lib/python3.6/dist-packages/pandas/core/nanops.py:116: RuntimeWarning: Mean of empty slice\n",
            "  result = bn_func(values, axis=axis, **kwds)\n"
          ],
          "name": "stderr"
        }
      ]
    },
    {
      "cell_type": "code",
      "metadata": {
        "id": "QN5UT8ONVjdQ",
        "colab_type": "code",
        "colab": {}
      },
      "source": [
        "matrix['date_city_AIC'] = matrix.groupby(['date_block_num', 'city_ord'])['item_cnt_month'].transform('mean')\n",
        "matrix['date_city_AIC'] = matrix['date_city_AIC'].astype(np.float16)\n",
        "#matrix = lag_feature(matrix, range(1,13), 'date_city_AIC')\n",
        "matrix = lag_feature(matrix, [1], 'date_city_AIC')\n",
        "#matrix = avg_trimester(matrix, 'date_city_AIC')\n",
        "matrix.drop(['date_city_AIC'], axis=1, inplace=True)"
      ],
      "execution_count": null,
      "outputs": []
    },
    {
      "cell_type": "code",
      "metadata": {
        "id": "HmyiPCxjVjdS",
        "colab_type": "code",
        "colab": {}
      },
      "source": [
        "matrix['date_category_AIC'] = matrix.groupby(['date_block_num', 'item_category_id'])['item_cnt_month'].transform('mean')\n",
        "matrix['date_category_AIC'] = matrix['date_category_AIC'].astype(np.float16)\n",
        "#matrix = lag_feature(matrix, range(1,13), 'date_category_AIC')\n",
        "matrix = lag_feature(matrix, [1], 'date_category_AIC')\n",
        "#matrix = avg_trimester(matrix, 'date_category_AIC')\n",
        "matrix.drop(['date_category_AIC'], axis=1, inplace=True)"
      ],
      "execution_count": null,
      "outputs": []
    },
    {
      "cell_type": "code",
      "metadata": {
        "id": "ASqfMo9vVjdT",
        "colab_type": "code",
        "colab": {}
      },
      "source": [
        "matrix['date_main_category_AIC'] = matrix.groupby(['date_block_num', 'main_category_ord'])['item_cnt_month'].transform('mean')\n",
        "matrix['date_main_category_AIC'] = matrix['date_main_category_AIC'].astype(np.float16)\n",
        "#matrix = lag_feature(matrix, range(1,13), 'date_main_category_AIC')\n",
        "matrix = lag_feature(matrix, [1], 'date_main_category_AIC')\n",
        "#matrix = avg_trimester(matrix, 'date_main_category_AIC')\n",
        "matrix.drop(['date_main_category_AIC'], axis=1, inplace=True)"
      ],
      "execution_count": null,
      "outputs": []
    },
    {
      "cell_type": "code",
      "metadata": {
        "id": "OvHjXTc7VjdW",
        "colab_type": "code",
        "colab": {}
      },
      "source": [
        "matrix['date_sub_category_AIC'] = matrix.groupby(['date_block_num', 'subcategory_ord'])['item_cnt_month'].transform('mean')\n",
        "matrix['date_sub_category_AIC'] = matrix['date_sub_category_AIC'].astype(np.float16)\n",
        "#matrix = lag_feature(matrix, range(1,13), 'date_sub_category_AIC')\n",
        "matrix = lag_feature(matrix, [1], 'date_sub_category_AIC')\n",
        "#matrix = avg_trimester(matrix, 'date_sub_category_AIC')\n",
        "matrix.drop(['date_sub_category_AIC'], axis=1, inplace=True)"
      ],
      "execution_count": null,
      "outputs": []
    },
    {
      "cell_type": "markdown",
      "metadata": {
        "id": "KsR1kGPS-els",
        "colab_type": "text"
      },
      "source": [
        "### Price Features\n",
        "Used the average item price and revenue per store"
      ]
    },
    {
      "cell_type": "code",
      "metadata": {
        "id": "FUpvy63bTpOX",
        "colab_type": "code",
        "colab": {}
      },
      "source": [
        "group = sales_train_df.groupby(['date_block_num','item_id']).agg({'item_price': ['mean']})\n",
        "group.columns = ['date_item_avg_item_price']\n",
        "group.reset_index(inplace=True)\n",
        "\n",
        "matrix = pd.merge(matrix, group, on=['date_block_num','item_id'], how='left')\n",
        "matrix['date_item_avg_item_price'] = matrix['date_item_avg_item_price'].astype(np.float16)\n",
        "\n",
        "matrix = lag_feature(matrix, range(1,4), 'date_item_avg_item_price')\n",
        "matrix.drop(['date_item_avg_item_price'], axis=1, inplace=True)\n",
        "del group"
      ],
      "execution_count": null,
      "outputs": []
    },
    {
      "cell_type": "code",
      "metadata": {
        "id": "VSZUBpa_OzNF",
        "colab_type": "code",
        "colab": {}
      },
      "source": [
        "group = sales_train_df.groupby(['date_block_num','shop_id']).agg({'revenue': ['sum']})\n",
        "group.columns = ['date_shop_revenue']\n",
        "group.reset_index(inplace=True)\n",
        "\n",
        "matrix = pd.merge(matrix, group, on=['date_block_num','shop_id'], how='left')\n",
        "matrix['date_shop_revenue'] = matrix['date_shop_revenue'].astype(np.float32)\n",
        "matrix = lag_feature(matrix, [1], 'date_shop_revenue')\n",
        "matrix.drop(['date_shop_revenue'], axis=1, inplace=True)\n",
        "del group"
      ],
      "execution_count": null,
      "outputs": []
    },
    {
      "cell_type": "code",
      "metadata": {
        "id": "7Cf6y-50beX1",
        "colab_type": "code",
        "colab": {}
      },
      "source": [
        "#added month and days of the month\n",
        "matrix['month'] = matrix['date_block_num'] % 12\n",
        "days = pd.Series([31,28,31,30,31,30,31,31,30,31,30,31])\n",
        "matrix['days'] = matrix['month'].map(days).astype(np.int8)"
      ],
      "execution_count": null,
      "outputs": []
    },
    {
      "cell_type": "code",
      "metadata": {
        "id": "FcBXKX5Mb3sc",
        "colab_type": "code",
        "colab": {
          "base_uri": "https://localhost:8080/",
          "height": 289
        },
        "outputId": "9bc45991-ee14-4ba8-9013-3b57b4975e89"
      },
      "source": [
        "matrix.columns"
      ],
      "execution_count": null,
      "outputs": [
        {
          "output_type": "execute_result",
          "data": {
            "text/plain": [
              "Index(['date_block_num', 'shop_id', 'item_id', 'item_cnt_month', 'ID',\n",
              "       'item_cnt_month_lag_1', 'item_cnt_month_lag_2', 'item_cnt_month_lag_3',\n",
              "       'item_cnt_month_lag_12', 'item_category_id', 'main_category_ord',\n",
              "       'subcategory_ord', 'city_ord', 'item_cnt_month_avg_lag_2nd_trimester',\n",
              "       'item_cnt_month_avg_lag_3rd_trimester', 'date_item_AIC_lag_1',\n",
              "       'date_item_AIC_lag_2', 'date_item_AIC_lag_3', 'date_item_AIC_lag_12',\n",
              "       'date_item_AIC_avg_lag_2nd_trimester',\n",
              "       'date_item_AIC_avg_lag_3rd_trimester', 'date_shop_AIC_lag_1',\n",
              "       'date_shop_AIC_lag_2', 'date_shop_AIC_lag_3', 'date_shop_AIC_lag_12',\n",
              "       'date_shop_AIC_avg_lag_2nd_trimester',\n",
              "       'date_shop_AIC_avg_lag_3rd_trimester', 'date_city_AIC_lag_1',\n",
              "       'date_category_AIC_lag_1', 'date_main_category_AIC_lag_1',\n",
              "       'date_sub_category_AIC_lag_1', 'date_item_avg_item_price_lag_1',\n",
              "       'date_item_avg_item_price_lag_2', 'date_item_avg_item_price_lag_3',\n",
              "       'date_shop_revenue_lag_1', 'month', 'days'],\n",
              "      dtype='object')"
            ]
          },
          "metadata": {
            "tags": []
          },
          "execution_count": 37
        }
      ]
    },
    {
      "cell_type": "code",
      "metadata": {
        "id": "GMFDNhwRVjdY",
        "colab_type": "code",
        "colab": {}
      },
      "source": [
        "#matrix.to_csv('mean_encondings_and_price.csv')\n",
        "#matrix = pd.read_csv('mean_encondings_and_price.csv')\n",
        "matrix = matrix[matrix.date_block_num > 11]\n",
        "#matrix.to_csv('mean_encondings_and_price.csv')"
      ],
      "execution_count": null,
      "outputs": []
    },
    {
      "cell_type": "code",
      "metadata": {
        "id": "APXPgKH-Vjda",
        "colab_type": "code",
        "colab": {}
      },
      "source": [
        "def fill_na(df):\n",
        "    for col in df.columns:\n",
        "        if ('_lag_' in col) & (df[col].isnull().any()):\n",
        "            if ('item_cnt' in col):\n",
        "                df[col].fillna(0, inplace=True)         \n",
        "    return df\n",
        "\n",
        "matrix = fill_na(matrix)"
      ],
      "execution_count": null,
      "outputs": []
    },
    {
      "cell_type": "code",
      "metadata": {
        "id": "AGATYyioVjdb",
        "colab_type": "code",
        "colab": {}
      },
      "source": [
        "#matrix=pd.read_csv('matrix_mean_encoded_tri.csv')\n",
        "#matrix[matrix.date_block_num==22].head(50)"
      ],
      "execution_count": null,
      "outputs": []
    },
    {
      "cell_type": "code",
      "metadata": {
        "id": "Yup7E3seVjdg",
        "colab_type": "code",
        "colab": {}
      },
      "source": [
        "#Separate data for mean encodings building\n",
        "X_train = matrix[matrix.date_block_num<33].drop(['item_cnt_month'], axis=1)\n",
        "y_train = matrix[matrix.date_block_num<33].item_cnt_month\n",
        "X_valid = matrix[matrix.date_block_num==33].drop(['item_cnt_month'], axis=1)\n",
        "y_valid = matrix[matrix.date_block_num==33].item_cnt_month\n",
        "X_test = matrix[matrix.date_block_num==34].drop(['item_cnt_month'], axis=1)\n",
        "\n",
        "pickle.dump(X_train, open(\"X_train.pickle.dat\", \"wb\"))\n",
        "pickle.dump(y_train, open(\"y_train.pickle.dat\", \"wb\"))\n",
        "pickle.dump(X_valid, open(\"X_valid.pickle.dat\", \"wb\"))\n",
        "pickle.dump(y_valid, open(\"y_valid.pickle.dat\", \"wb\"))\n",
        "pickle.dump(X_test, open(\"X_test.pickle.dat\", \"wb\"))"
      ],
      "execution_count": null,
      "outputs": []
    },
    {
      "cell_type": "code",
      "metadata": {
        "id": "w5_wtnnQVjdk",
        "colab_type": "code",
        "colab": {}
      },
      "source": [
        "del matrix\n",
        "del sales_train_df\n",
        "del test_df\n",
        "del items_df\n",
        "del shops_df\n",
        "del categories_df\n",
        "del train_grouped_df\n",
        "del items_merged_df\n",
        "import gc\n",
        "gc.collect();\n"
      ],
      "execution_count": null,
      "outputs": []
    },
    {
      "cell_type": "markdown",
      "metadata": {
        "id": "U6VGurb_-2kV",
        "colab_type": "text"
      },
      "source": [
        "### Training\n",
        "6 XGBoost models are trained changing the depth and learning rate, the models and predictions are saved to be used in an ensemble "
      ]
    },
    {
      "cell_type": "code",
      "metadata": {
        "id": "bP4h80H_DbRp",
        "colab_type": "code",
        "colab": {
          "base_uri": "https://localhost:8080/",
          "height": 361
        },
        "outputId": "df7f339d-6520-4244-d89c-3685ba7d930d"
      },
      "source": [
        "X_train = pd.read_pickle('X_train.pickle.dat')\n",
        "y_train = pd.read_pickle('y_train.pickle.dat')\n",
        "X_valid = pd.read_pickle('X_valid.pickle.dat')\n",
        "y_valid = pd.read_pickle('y_valid.pickle.dat')\n",
        "X_test = pd.read_pickle('X_test.pickle.dat')"
      ],
      "execution_count": 10,
      "outputs": [
        {
          "output_type": "error",
          "ename": "FileNotFoundError",
          "evalue": "ignored",
          "traceback": [
            "\u001b[0;31m---------------------------------------------------------------------------\u001b[0m",
            "\u001b[0;31mFileNotFoundError\u001b[0m                         Traceback (most recent call last)",
            "\u001b[0;32m<ipython-input-10-bfd3dc02aaa2>\u001b[0m in \u001b[0;36m<module>\u001b[0;34m()\u001b[0m\n\u001b[0;32m----> 1\u001b[0;31m \u001b[0mX_train\u001b[0m \u001b[0;34m=\u001b[0m \u001b[0mpd\u001b[0m\u001b[0;34m.\u001b[0m\u001b[0mread_pickle\u001b[0m\u001b[0;34m(\u001b[0m\u001b[0;34m'X_train.pickle.dat'\u001b[0m\u001b[0;34m)\u001b[0m\u001b[0;34m\u001b[0m\u001b[0;34m\u001b[0m\u001b[0m\n\u001b[0m\u001b[1;32m      2\u001b[0m \u001b[0my_train\u001b[0m \u001b[0;34m=\u001b[0m \u001b[0mpd\u001b[0m\u001b[0;34m.\u001b[0m\u001b[0mread_pickle\u001b[0m\u001b[0;34m(\u001b[0m\u001b[0;34m'y_train.pickle.dat'\u001b[0m\u001b[0;34m)\u001b[0m\u001b[0;34m\u001b[0m\u001b[0;34m\u001b[0m\u001b[0m\n\u001b[1;32m      3\u001b[0m \u001b[0mX_valid\u001b[0m \u001b[0;34m=\u001b[0m \u001b[0mpd\u001b[0m\u001b[0;34m.\u001b[0m\u001b[0mread_pickle\u001b[0m\u001b[0;34m(\u001b[0m\u001b[0;34m'X_valid.pickle.dat'\u001b[0m\u001b[0;34m)\u001b[0m\u001b[0;34m\u001b[0m\u001b[0;34m\u001b[0m\u001b[0m\n\u001b[1;32m      4\u001b[0m \u001b[0my_valid\u001b[0m \u001b[0;34m=\u001b[0m \u001b[0mpd\u001b[0m\u001b[0;34m.\u001b[0m\u001b[0mread_pickle\u001b[0m\u001b[0;34m(\u001b[0m\u001b[0;34m'y_valid.pickle.dat'\u001b[0m\u001b[0;34m)\u001b[0m\u001b[0;34m\u001b[0m\u001b[0;34m\u001b[0m\u001b[0m\n\u001b[1;32m      5\u001b[0m \u001b[0mX_test\u001b[0m \u001b[0;34m=\u001b[0m \u001b[0mpd\u001b[0m\u001b[0;34m.\u001b[0m\u001b[0mread_pickle\u001b[0m\u001b[0;34m(\u001b[0m\u001b[0;34m'X_test.pickle.dat'\u001b[0m\u001b[0;34m)\u001b[0m\u001b[0;34m\u001b[0m\u001b[0;34m\u001b[0m\u001b[0m\n",
            "\u001b[0;32m/usr/local/lib/python3.6/dist-packages/pandas/io/pickle.py\u001b[0m in \u001b[0;36mread_pickle\u001b[0;34m(filepath_or_buffer, compression)\u001b[0m\n\u001b[1;32m    168\u001b[0m     \u001b[0;32mif\u001b[0m \u001b[0;32mnot\u001b[0m \u001b[0misinstance\u001b[0m\u001b[0;34m(\u001b[0m\u001b[0mfp_or_buf\u001b[0m\u001b[0;34m,\u001b[0m \u001b[0mstr\u001b[0m\u001b[0;34m)\u001b[0m \u001b[0;32mand\u001b[0m \u001b[0mcompression\u001b[0m \u001b[0;34m==\u001b[0m \u001b[0;34m\"infer\"\u001b[0m\u001b[0;34m:\u001b[0m\u001b[0;34m\u001b[0m\u001b[0;34m\u001b[0m\u001b[0m\n\u001b[1;32m    169\u001b[0m         \u001b[0mcompression\u001b[0m \u001b[0;34m=\u001b[0m \u001b[0;32mNone\u001b[0m\u001b[0;34m\u001b[0m\u001b[0;34m\u001b[0m\u001b[0m\n\u001b[0;32m--> 170\u001b[0;31m     \u001b[0mf\u001b[0m\u001b[0;34m,\u001b[0m \u001b[0mfh\u001b[0m \u001b[0;34m=\u001b[0m \u001b[0mget_handle\u001b[0m\u001b[0;34m(\u001b[0m\u001b[0mfp_or_buf\u001b[0m\u001b[0;34m,\u001b[0m \u001b[0;34m\"rb\"\u001b[0m\u001b[0;34m,\u001b[0m \u001b[0mcompression\u001b[0m\u001b[0;34m=\u001b[0m\u001b[0mcompression\u001b[0m\u001b[0;34m,\u001b[0m \u001b[0mis_text\u001b[0m\u001b[0;34m=\u001b[0m\u001b[0;32mFalse\u001b[0m\u001b[0;34m)\u001b[0m\u001b[0;34m\u001b[0m\u001b[0;34m\u001b[0m\u001b[0m\n\u001b[0m\u001b[1;32m    171\u001b[0m \u001b[0;34m\u001b[0m\u001b[0m\n\u001b[1;32m    172\u001b[0m     \u001b[0;31m# 1) try standard library Pickle\u001b[0m\u001b[0;34m\u001b[0m\u001b[0;34m\u001b[0m\u001b[0;34m\u001b[0m\u001b[0m\n",
            "\u001b[0;32m/usr/local/lib/python3.6/dist-packages/pandas/io/common.py\u001b[0m in \u001b[0;36mget_handle\u001b[0;34m(path_or_buf, mode, encoding, compression, memory_map, is_text)\u001b[0m\n\u001b[1;32m    432\u001b[0m         \u001b[0;32melse\u001b[0m\u001b[0;34m:\u001b[0m\u001b[0;34m\u001b[0m\u001b[0;34m\u001b[0m\u001b[0m\n\u001b[1;32m    433\u001b[0m             \u001b[0;31m# Binary mode\u001b[0m\u001b[0;34m\u001b[0m\u001b[0;34m\u001b[0m\u001b[0;34m\u001b[0m\u001b[0m\n\u001b[0;32m--> 434\u001b[0;31m             \u001b[0mf\u001b[0m \u001b[0;34m=\u001b[0m \u001b[0mopen\u001b[0m\u001b[0;34m(\u001b[0m\u001b[0mpath_or_buf\u001b[0m\u001b[0;34m,\u001b[0m \u001b[0mmode\u001b[0m\u001b[0;34m)\u001b[0m\u001b[0;34m\u001b[0m\u001b[0;34m\u001b[0m\u001b[0m\n\u001b[0m\u001b[1;32m    435\u001b[0m         \u001b[0mhandles\u001b[0m\u001b[0;34m.\u001b[0m\u001b[0mappend\u001b[0m\u001b[0;34m(\u001b[0m\u001b[0mf\u001b[0m\u001b[0;34m)\u001b[0m\u001b[0;34m\u001b[0m\u001b[0;34m\u001b[0m\u001b[0m\n\u001b[1;32m    436\u001b[0m \u001b[0;34m\u001b[0m\u001b[0m\n",
            "\u001b[0;31mFileNotFoundError\u001b[0m: [Errno 2] No such file or directory: 'X_train.pickle.dat'"
          ]
        }
      ]
    },
    {
      "cell_type": "code",
      "metadata": {
        "id": "AnKjTmruVjdo",
        "colab_type": "code",
        "colab": {}
      },
      "source": [
        "def train_models(depths, etas, X_train, y_train, X_valid, y_valid):\n",
        "  i=0\n",
        "  for depth in depths:\n",
        "    for eta in etas:\n",
        "      model = XGBRegressor(\n",
        "        max_depth=depth,\n",
        "        n_estimators=1000,\n",
        "        min_child_weight=300, \n",
        "        colsample_bytree=0.8, \n",
        "        subsample=0.8, \n",
        "        eta=eta,    \n",
        "        seed=42)\n",
        "\n",
        "      model.fit(\n",
        "          X_train, \n",
        "          y_train, \n",
        "          eval_metric=\"rmse\", \n",
        "          eval_set=[(X_train, y_train), (X_valid, y_valid)], \n",
        "          verbose=True, \n",
        "          early_stopping_rounds = 10)\n",
        "      \n",
        "      y_pred = model.predict(X_valid).clip(0, 20)\n",
        "      y_test = model.predict(X_test).clip(0, 20)\n",
        "      pickle.dump(model, open(\"model_xgb_\" + str(i)+ \".pickle.dat\", \"wb\"))\n",
        "      pickle.dump(y_pred, open(\"y_pred_xgb_\"+str(i)+\".pickle.dat\", \"wb\"))\n",
        "      pickle.dump(y_test, open(\"y_test_xgb_\"+str(i)+\".pickle.dat\", \"wb\"))\n",
        "      i += 1 \n",
        "      del model\n",
        "      del y_pred\n",
        "      del y_test"
      ],
      "execution_count": null,
      "outputs": []
    },
    {
      "cell_type": "code",
      "metadata": {
        "id": "uxTKvfn5Vjdq",
        "colab_type": "code",
        "colab": {}
      },
      "source": [
        "train_models([6,8,10], [0.2,0.3], X_train, y_train, X_valid, y_valid)"
      ],
      "execution_count": null,
      "outputs": []
    },
    {
      "cell_type": "markdown",
      "metadata": {
        "id": "TFStwPu0Up7U",
        "colab_type": "text"
      },
      "source": [
        "### Ensembling"
      ]
    },
    {
      "cell_type": "code",
      "metadata": {
        "id": "rLZWqAP1Vjds",
        "colab_type": "code",
        "colab": {
          "base_uri": "https://localhost:8080/",
          "height": 191
        },
        "outputId": "4a53b455-9709-4a9a-8e17-88615a321312"
      },
      "source": [
        "#Load y_pred for every model, but given that the paremeter eta doesn't change the loss I will only use three models\n",
        "meta_features = pd.DataFrame()\n",
        "for i in range(0,3):\n",
        "  meta_features['pred' + str(i)] = pickle.load(open('y_pred_xgb_' +  str(i*2) +'.pickle.dat', 'rb'))\n",
        "meta_features.head()"
      ],
      "execution_count": 4,
      "outputs": [
        {
          "output_type": "execute_result",
          "data": {
            "text/html": [
              "<div>\n",
              "<style scoped>\n",
              "    .dataframe tbody tr th:only-of-type {\n",
              "        vertical-align: middle;\n",
              "    }\n",
              "\n",
              "    .dataframe tbody tr th {\n",
              "        vertical-align: top;\n",
              "    }\n",
              "\n",
              "    .dataframe thead th {\n",
              "        text-align: right;\n",
              "    }\n",
              "</style>\n",
              "<table border=\"1\" class=\"dataframe\">\n",
              "  <thead>\n",
              "    <tr style=\"text-align: right;\">\n",
              "      <th></th>\n",
              "      <th>pred0</th>\n",
              "      <th>pred1</th>\n",
              "      <th>pred2</th>\n",
              "    </tr>\n",
              "  </thead>\n",
              "  <tbody>\n",
              "    <tr>\n",
              "      <th>0</th>\n",
              "      <td>0.015576</td>\n",
              "      <td>0.028306</td>\n",
              "      <td>0.022855</td>\n",
              "    </tr>\n",
              "    <tr>\n",
              "      <th>1</th>\n",
              "      <td>0.079511</td>\n",
              "      <td>0.057144</td>\n",
              "      <td>0.034990</td>\n",
              "    </tr>\n",
              "    <tr>\n",
              "      <th>2</th>\n",
              "      <td>0.229569</td>\n",
              "      <td>0.240479</td>\n",
              "      <td>0.261573</td>\n",
              "    </tr>\n",
              "    <tr>\n",
              "      <th>3</th>\n",
              "      <td>0.241657</td>\n",
              "      <td>0.270879</td>\n",
              "      <td>0.264782</td>\n",
              "    </tr>\n",
              "    <tr>\n",
              "      <th>4</th>\n",
              "      <td>0.014758</td>\n",
              "      <td>0.011575</td>\n",
              "      <td>0.010676</td>\n",
              "    </tr>\n",
              "  </tbody>\n",
              "</table>\n",
              "</div>"
            ],
            "text/plain": [
              "      pred0     pred1     pred2\n",
              "0  0.015576  0.028306  0.022855\n",
              "1  0.079511  0.057144  0.034990\n",
              "2  0.229569  0.240479  0.261573\n",
              "3  0.241657  0.270879  0.264782\n",
              "4  0.014758  0.011575  0.010676"
            ]
          },
          "metadata": {
            "tags": []
          },
          "execution_count": 4
        }
      ]
    },
    {
      "cell_type": "code",
      "metadata": {
        "id": "VoF4oBhZYir6",
        "colab_type": "code",
        "colab": {}
      },
      "source": [
        "y_valid = pickle.load(open('y_valid.pickle.dat', 'rb'))"
      ],
      "execution_count": 5,
      "outputs": []
    },
    {
      "cell_type": "code",
      "metadata": {
        "id": "OPGso-B8Vjdx",
        "colab_type": "code",
        "colab": {
          "base_uri": "https://localhost:8080/",
          "height": 1000
        },
        "outputId": "b44e39ae-8352-4f82-e0aa-c6271512d3cd"
      },
      "source": [
        "meta_model = XGBRegressor(\n",
        "    max_depth=4,\n",
        "    n_estimators=1000,\n",
        "    min_child_weight=300, \n",
        "    colsample_bytree=0.8, \n",
        "    subsample=0.8, \n",
        "    eta=0.3,    \n",
        "    seed=7)\n",
        "\n",
        "meta_model.fit(\n",
        "    meta_features, \n",
        "    y_valid, \n",
        "    eval_metric=\"rmse\",\n",
        "    eval_set=[(meta_features, y_valid)],\n",
        "    verbose=True, \n",
        "    early_stopping_rounds = 10)"
      ],
      "execution_count": 14,
      "outputs": [
        {
          "output_type": "stream",
          "text": [
            "[14:07:16] WARNING: /workspace/src/objective/regression_obj.cu:152: reg:linear is now deprecated in favor of reg:squarederror.\n",
            "[0]\tvalidation_0-rmse:1.12206\n",
            "Will train until validation_0-rmse hasn't improved in 10 rounds.\n",
            "[1]\tvalidation_0-rmse:1.08948\n",
            "[2]\tvalidation_0-rmse:1.06191\n",
            "[3]\tvalidation_0-rmse:1.03965\n",
            "[4]\tvalidation_0-rmse:1.0202\n",
            "[5]\tvalidation_0-rmse:1.0045\n",
            "[6]\tvalidation_0-rmse:0.991656\n",
            "[7]\tvalidation_0-rmse:0.980209\n",
            "[8]\tvalidation_0-rmse:0.971223\n",
            "[9]\tvalidation_0-rmse:0.9637\n",
            "[10]\tvalidation_0-rmse:0.95723\n",
            "[11]\tvalidation_0-rmse:0.951784\n",
            "[12]\tvalidation_0-rmse:0.947697\n",
            "[13]\tvalidation_0-rmse:0.943575\n",
            "[14]\tvalidation_0-rmse:0.940186\n",
            "[15]\tvalidation_0-rmse:0.937643\n",
            "[16]\tvalidation_0-rmse:0.935268\n",
            "[17]\tvalidation_0-rmse:0.933281\n",
            "[18]\tvalidation_0-rmse:0.931683\n",
            "[19]\tvalidation_0-rmse:0.930539\n",
            "[20]\tvalidation_0-rmse:0.929584\n",
            "[21]\tvalidation_0-rmse:0.928422\n",
            "[22]\tvalidation_0-rmse:0.927431\n",
            "[23]\tvalidation_0-rmse:0.926752\n",
            "[24]\tvalidation_0-rmse:0.926193\n",
            "[25]\tvalidation_0-rmse:0.92573\n",
            "[26]\tvalidation_0-rmse:0.925354\n",
            "[27]\tvalidation_0-rmse:0.924835\n",
            "[28]\tvalidation_0-rmse:0.924311\n",
            "[29]\tvalidation_0-rmse:0.923808\n",
            "[30]\tvalidation_0-rmse:0.923266\n",
            "[31]\tvalidation_0-rmse:0.92298\n",
            "[32]\tvalidation_0-rmse:0.92275\n",
            "[33]\tvalidation_0-rmse:0.922582\n",
            "[34]\tvalidation_0-rmse:0.922326\n",
            "[35]\tvalidation_0-rmse:0.922077\n",
            "[36]\tvalidation_0-rmse:0.921845\n",
            "[37]\tvalidation_0-rmse:0.921736\n",
            "[38]\tvalidation_0-rmse:0.921555\n",
            "[39]\tvalidation_0-rmse:0.921252\n",
            "[40]\tvalidation_0-rmse:0.920935\n",
            "[41]\tvalidation_0-rmse:0.920857\n",
            "[42]\tvalidation_0-rmse:0.920677\n",
            "[43]\tvalidation_0-rmse:0.920557\n",
            "[44]\tvalidation_0-rmse:0.920389\n",
            "[45]\tvalidation_0-rmse:0.920339\n",
            "[46]\tvalidation_0-rmse:0.92014\n",
            "[47]\tvalidation_0-rmse:0.920058\n",
            "[48]\tvalidation_0-rmse:0.919871\n",
            "[49]\tvalidation_0-rmse:0.919704\n",
            "[50]\tvalidation_0-rmse:0.919517\n",
            "[51]\tvalidation_0-rmse:0.919249\n",
            "[52]\tvalidation_0-rmse:0.91912\n",
            "[53]\tvalidation_0-rmse:0.919032\n",
            "[54]\tvalidation_0-rmse:0.918939\n",
            "[55]\tvalidation_0-rmse:0.918578\n",
            "[56]\tvalidation_0-rmse:0.91846\n",
            "[57]\tvalidation_0-rmse:0.918303\n",
            "[58]\tvalidation_0-rmse:0.918102\n",
            "[59]\tvalidation_0-rmse:0.918038\n",
            "[60]\tvalidation_0-rmse:0.917835\n",
            "[61]\tvalidation_0-rmse:0.917789\n",
            "[62]\tvalidation_0-rmse:0.917666\n",
            "[63]\tvalidation_0-rmse:0.917596\n",
            "[64]\tvalidation_0-rmse:0.917457\n",
            "[65]\tvalidation_0-rmse:0.917279\n",
            "[66]\tvalidation_0-rmse:0.917194\n",
            "[67]\tvalidation_0-rmse:0.917104\n",
            "[68]\tvalidation_0-rmse:0.91702\n",
            "[69]\tvalidation_0-rmse:0.916923\n",
            "[70]\tvalidation_0-rmse:0.916837\n",
            "[71]\tvalidation_0-rmse:0.916748\n",
            "[72]\tvalidation_0-rmse:0.916509\n",
            "[73]\tvalidation_0-rmse:0.916439\n",
            "[74]\tvalidation_0-rmse:0.916357\n",
            "[75]\tvalidation_0-rmse:0.916301\n",
            "[76]\tvalidation_0-rmse:0.9162\n",
            "[77]\tvalidation_0-rmse:0.916081\n",
            "[78]\tvalidation_0-rmse:0.915952\n",
            "[79]\tvalidation_0-rmse:0.915898\n",
            "[80]\tvalidation_0-rmse:0.915834\n",
            "[81]\tvalidation_0-rmse:0.915623\n",
            "[82]\tvalidation_0-rmse:0.915527\n",
            "[83]\tvalidation_0-rmse:0.91545\n",
            "[84]\tvalidation_0-rmse:0.915261\n",
            "[85]\tvalidation_0-rmse:0.915143\n",
            "[86]\tvalidation_0-rmse:0.915096\n",
            "[87]\tvalidation_0-rmse:0.914988\n",
            "[88]\tvalidation_0-rmse:0.914948\n",
            "[89]\tvalidation_0-rmse:0.91487\n",
            "[90]\tvalidation_0-rmse:0.914837\n",
            "[91]\tvalidation_0-rmse:0.914686\n",
            "[92]\tvalidation_0-rmse:0.914592\n",
            "[93]\tvalidation_0-rmse:0.9145\n",
            "[94]\tvalidation_0-rmse:0.914422\n",
            "[95]\tvalidation_0-rmse:0.914333\n",
            "[96]\tvalidation_0-rmse:0.91427\n",
            "[97]\tvalidation_0-rmse:0.914186\n",
            "[98]\tvalidation_0-rmse:0.914142\n",
            "[99]\tvalidation_0-rmse:0.914076\n",
            "[100]\tvalidation_0-rmse:0.914008\n",
            "[101]\tvalidation_0-rmse:0.91392\n",
            "[102]\tvalidation_0-rmse:0.913856\n",
            "[103]\tvalidation_0-rmse:0.913647\n",
            "[104]\tvalidation_0-rmse:0.913516\n",
            "[105]\tvalidation_0-rmse:0.913472\n",
            "[106]\tvalidation_0-rmse:0.913391\n",
            "[107]\tvalidation_0-rmse:0.913349\n",
            "[108]\tvalidation_0-rmse:0.91327\n",
            "[109]\tvalidation_0-rmse:0.913179\n",
            "[110]\tvalidation_0-rmse:0.912983\n",
            "[111]\tvalidation_0-rmse:0.912961\n",
            "[112]\tvalidation_0-rmse:0.91288\n",
            "[113]\tvalidation_0-rmse:0.912761\n",
            "[114]\tvalidation_0-rmse:0.912683\n",
            "[115]\tvalidation_0-rmse:0.912614\n",
            "[116]\tvalidation_0-rmse:0.912549\n",
            "[117]\tvalidation_0-rmse:0.912477\n",
            "[118]\tvalidation_0-rmse:0.912434\n",
            "[119]\tvalidation_0-rmse:0.912393\n",
            "[120]\tvalidation_0-rmse:0.912324\n",
            "[121]\tvalidation_0-rmse:0.912279\n",
            "[122]\tvalidation_0-rmse:0.912208\n",
            "[123]\tvalidation_0-rmse:0.912175\n",
            "[124]\tvalidation_0-rmse:0.912128\n",
            "[125]\tvalidation_0-rmse:0.911985\n",
            "[126]\tvalidation_0-rmse:0.911942\n",
            "[127]\tvalidation_0-rmse:0.911904\n",
            "[128]\tvalidation_0-rmse:0.911797\n",
            "[129]\tvalidation_0-rmse:0.911751\n",
            "[130]\tvalidation_0-rmse:0.911675\n",
            "[131]\tvalidation_0-rmse:0.911616\n",
            "[132]\tvalidation_0-rmse:0.91157\n",
            "[133]\tvalidation_0-rmse:0.911523\n",
            "[134]\tvalidation_0-rmse:0.911448\n",
            "[135]\tvalidation_0-rmse:0.911401\n",
            "[136]\tvalidation_0-rmse:0.911339\n",
            "[137]\tvalidation_0-rmse:0.911312\n",
            "[138]\tvalidation_0-rmse:0.911223\n",
            "[139]\tvalidation_0-rmse:0.911184\n",
            "[140]\tvalidation_0-rmse:0.911074\n",
            "[141]\tvalidation_0-rmse:0.910942\n",
            "[142]\tvalidation_0-rmse:0.910909\n",
            "[143]\tvalidation_0-rmse:0.910862\n",
            "[144]\tvalidation_0-rmse:0.910672\n",
            "[145]\tvalidation_0-rmse:0.910549\n",
            "[146]\tvalidation_0-rmse:0.91053\n",
            "[147]\tvalidation_0-rmse:0.910467\n",
            "[148]\tvalidation_0-rmse:0.910425\n",
            "[149]\tvalidation_0-rmse:0.91037\n",
            "[150]\tvalidation_0-rmse:0.910338\n",
            "[151]\tvalidation_0-rmse:0.910288\n",
            "[152]\tvalidation_0-rmse:0.910148\n",
            "[153]\tvalidation_0-rmse:0.910082\n",
            "[154]\tvalidation_0-rmse:0.910056\n",
            "[155]\tvalidation_0-rmse:0.909984\n",
            "[156]\tvalidation_0-rmse:0.909913\n",
            "[157]\tvalidation_0-rmse:0.909861\n",
            "[158]\tvalidation_0-rmse:0.909796\n",
            "[159]\tvalidation_0-rmse:0.909729\n",
            "[160]\tvalidation_0-rmse:0.909678\n",
            "[161]\tvalidation_0-rmse:0.909588\n",
            "[162]\tvalidation_0-rmse:0.909522\n",
            "[163]\tvalidation_0-rmse:0.909479\n",
            "[164]\tvalidation_0-rmse:0.909451\n",
            "[165]\tvalidation_0-rmse:0.909423\n",
            "[166]\tvalidation_0-rmse:0.909393\n",
            "[167]\tvalidation_0-rmse:0.90934\n",
            "[168]\tvalidation_0-rmse:0.909275\n",
            "[169]\tvalidation_0-rmse:0.909213\n",
            "[170]\tvalidation_0-rmse:0.909104\n",
            "[171]\tvalidation_0-rmse:0.909072\n",
            "[172]\tvalidation_0-rmse:0.909037\n",
            "[173]\tvalidation_0-rmse:0.909013\n",
            "[174]\tvalidation_0-rmse:0.908974\n",
            "[175]\tvalidation_0-rmse:0.908937\n",
            "[176]\tvalidation_0-rmse:0.908916\n",
            "[177]\tvalidation_0-rmse:0.908888\n",
            "[178]\tvalidation_0-rmse:0.908807\n",
            "[179]\tvalidation_0-rmse:0.908756\n",
            "[180]\tvalidation_0-rmse:0.90869\n",
            "[181]\tvalidation_0-rmse:0.908548\n",
            "[182]\tvalidation_0-rmse:0.908494\n",
            "[183]\tvalidation_0-rmse:0.908466\n",
            "[184]\tvalidation_0-rmse:0.908444\n",
            "[185]\tvalidation_0-rmse:0.908406\n",
            "[186]\tvalidation_0-rmse:0.908363\n",
            "[187]\tvalidation_0-rmse:0.908274\n",
            "[188]\tvalidation_0-rmse:0.908103\n",
            "[189]\tvalidation_0-rmse:0.908045\n",
            "[190]\tvalidation_0-rmse:0.908007\n",
            "[191]\tvalidation_0-rmse:0.907927\n",
            "[192]\tvalidation_0-rmse:0.907907\n",
            "[193]\tvalidation_0-rmse:0.907826\n",
            "[194]\tvalidation_0-rmse:0.907805\n",
            "[195]\tvalidation_0-rmse:0.907687\n",
            "[196]\tvalidation_0-rmse:0.907633\n",
            "[197]\tvalidation_0-rmse:0.907556\n",
            "[198]\tvalidation_0-rmse:0.907476\n",
            "[199]\tvalidation_0-rmse:0.907411\n",
            "[200]\tvalidation_0-rmse:0.907371\n",
            "[201]\tvalidation_0-rmse:0.907346\n",
            "[202]\tvalidation_0-rmse:0.907281\n",
            "[203]\tvalidation_0-rmse:0.907209\n",
            "[204]\tvalidation_0-rmse:0.907172\n",
            "[205]\tvalidation_0-rmse:0.907107\n",
            "[206]\tvalidation_0-rmse:0.90701\n",
            "[207]\tvalidation_0-rmse:0.906996\n",
            "[208]\tvalidation_0-rmse:0.906907\n",
            "[209]\tvalidation_0-rmse:0.906856\n",
            "[210]\tvalidation_0-rmse:0.90682\n",
            "[211]\tvalidation_0-rmse:0.906781\n",
            "[212]\tvalidation_0-rmse:0.906746\n",
            "[213]\tvalidation_0-rmse:0.906719\n",
            "[214]\tvalidation_0-rmse:0.906672\n",
            "[215]\tvalidation_0-rmse:0.906622\n",
            "[216]\tvalidation_0-rmse:0.90658\n",
            "[217]\tvalidation_0-rmse:0.906421\n",
            "[218]\tvalidation_0-rmse:0.906398\n",
            "[219]\tvalidation_0-rmse:0.90632\n",
            "[220]\tvalidation_0-rmse:0.906243\n",
            "[221]\tvalidation_0-rmse:0.906213\n",
            "[222]\tvalidation_0-rmse:0.906169\n",
            "[223]\tvalidation_0-rmse:0.906117\n",
            "[224]\tvalidation_0-rmse:0.905809\n",
            "[225]\tvalidation_0-rmse:0.905773\n",
            "[226]\tvalidation_0-rmse:0.905761\n",
            "[227]\tvalidation_0-rmse:0.905725\n",
            "[228]\tvalidation_0-rmse:0.90569\n",
            "[229]\tvalidation_0-rmse:0.905624\n",
            "[230]\tvalidation_0-rmse:0.905606\n",
            "[231]\tvalidation_0-rmse:0.90557\n",
            "[232]\tvalidation_0-rmse:0.905309\n",
            "[233]\tvalidation_0-rmse:0.905266\n",
            "[234]\tvalidation_0-rmse:0.905209\n",
            "[235]\tvalidation_0-rmse:0.905131\n",
            "[236]\tvalidation_0-rmse:0.905073\n",
            "[237]\tvalidation_0-rmse:0.905011\n",
            "[238]\tvalidation_0-rmse:0.904976\n",
            "[239]\tvalidation_0-rmse:0.904956\n",
            "[240]\tvalidation_0-rmse:0.90493\n",
            "[241]\tvalidation_0-rmse:0.904891\n",
            "[242]\tvalidation_0-rmse:0.904871\n",
            "[243]\tvalidation_0-rmse:0.904832\n",
            "[244]\tvalidation_0-rmse:0.904803\n",
            "[245]\tvalidation_0-rmse:0.904757\n",
            "[246]\tvalidation_0-rmse:0.90471\n",
            "[247]\tvalidation_0-rmse:0.904631\n",
            "[248]\tvalidation_0-rmse:0.904586\n",
            "[249]\tvalidation_0-rmse:0.904549\n",
            "[250]\tvalidation_0-rmse:0.904234\n",
            "[251]\tvalidation_0-rmse:0.904062\n",
            "[252]\tvalidation_0-rmse:0.904028\n",
            "[253]\tvalidation_0-rmse:0.903986\n",
            "[254]\tvalidation_0-rmse:0.903933\n",
            "[255]\tvalidation_0-rmse:0.903858\n",
            "[256]\tvalidation_0-rmse:0.903835\n",
            "[257]\tvalidation_0-rmse:0.903764\n",
            "[258]\tvalidation_0-rmse:0.903724\n",
            "[259]\tvalidation_0-rmse:0.903669\n",
            "[260]\tvalidation_0-rmse:0.90365\n",
            "[261]\tvalidation_0-rmse:0.903555\n",
            "[262]\tvalidation_0-rmse:0.903517\n",
            "[263]\tvalidation_0-rmse:0.903489\n",
            "[264]\tvalidation_0-rmse:0.903458\n",
            "[265]\tvalidation_0-rmse:0.903296\n",
            "[266]\tvalidation_0-rmse:0.903256\n",
            "[267]\tvalidation_0-rmse:0.903234\n",
            "[268]\tvalidation_0-rmse:0.903115\n",
            "[269]\tvalidation_0-rmse:0.903097\n",
            "[270]\tvalidation_0-rmse:0.90305\n",
            "[271]\tvalidation_0-rmse:0.903003\n",
            "[272]\tvalidation_0-rmse:0.902973\n",
            "[273]\tvalidation_0-rmse:0.90295\n",
            "[274]\tvalidation_0-rmse:0.902906\n",
            "[275]\tvalidation_0-rmse:0.902854\n",
            "[276]\tvalidation_0-rmse:0.902815\n",
            "[277]\tvalidation_0-rmse:0.902783\n",
            "[278]\tvalidation_0-rmse:0.902759\n",
            "[279]\tvalidation_0-rmse:0.902719\n",
            "[280]\tvalidation_0-rmse:0.902702\n",
            "[281]\tvalidation_0-rmse:0.902678\n",
            "[282]\tvalidation_0-rmse:0.902608\n",
            "[283]\tvalidation_0-rmse:0.902566\n",
            "[284]\tvalidation_0-rmse:0.902534\n",
            "[285]\tvalidation_0-rmse:0.902498\n",
            "[286]\tvalidation_0-rmse:0.902479\n",
            "[287]\tvalidation_0-rmse:0.902427\n",
            "[288]\tvalidation_0-rmse:0.902401\n",
            "[289]\tvalidation_0-rmse:0.902389\n",
            "[290]\tvalidation_0-rmse:0.902333\n",
            "[291]\tvalidation_0-rmse:0.902291\n",
            "[292]\tvalidation_0-rmse:0.902231\n",
            "[293]\tvalidation_0-rmse:0.902203\n",
            "[294]\tvalidation_0-rmse:0.902173\n",
            "[295]\tvalidation_0-rmse:0.902099\n",
            "[296]\tvalidation_0-rmse:0.902052\n",
            "[297]\tvalidation_0-rmse:0.902031\n",
            "[298]\tvalidation_0-rmse:0.902004\n",
            "[299]\tvalidation_0-rmse:0.901944\n",
            "[300]\tvalidation_0-rmse:0.90191\n",
            "[301]\tvalidation_0-rmse:0.901828\n",
            "[302]\tvalidation_0-rmse:0.901819\n",
            "[303]\tvalidation_0-rmse:0.901783\n",
            "[304]\tvalidation_0-rmse:0.901762\n",
            "[305]\tvalidation_0-rmse:0.901748\n",
            "[306]\tvalidation_0-rmse:0.901738\n",
            "[307]\tvalidation_0-rmse:0.901728\n",
            "[308]\tvalidation_0-rmse:0.901682\n",
            "[309]\tvalidation_0-rmse:0.90165\n",
            "[310]\tvalidation_0-rmse:0.901592\n",
            "[311]\tvalidation_0-rmse:0.901562\n",
            "[312]\tvalidation_0-rmse:0.90153\n",
            "[313]\tvalidation_0-rmse:0.901468\n",
            "[314]\tvalidation_0-rmse:0.901326\n",
            "[315]\tvalidation_0-rmse:0.901208\n",
            "[316]\tvalidation_0-rmse:0.901178\n",
            "[317]\tvalidation_0-rmse:0.901141\n",
            "[318]\tvalidation_0-rmse:0.901111\n",
            "[319]\tvalidation_0-rmse:0.901086\n",
            "[320]\tvalidation_0-rmse:0.90098\n",
            "[321]\tvalidation_0-rmse:0.900962\n",
            "[322]\tvalidation_0-rmse:0.900941\n",
            "[323]\tvalidation_0-rmse:0.900918\n",
            "[324]\tvalidation_0-rmse:0.900872\n",
            "[325]\tvalidation_0-rmse:0.900856\n",
            "[326]\tvalidation_0-rmse:0.900825\n",
            "[327]\tvalidation_0-rmse:0.900789\n",
            "[328]\tvalidation_0-rmse:0.90075\n",
            "[329]\tvalidation_0-rmse:0.900723\n",
            "[330]\tvalidation_0-rmse:0.900686\n",
            "[331]\tvalidation_0-rmse:0.900646\n",
            "[332]\tvalidation_0-rmse:0.900604\n",
            "[333]\tvalidation_0-rmse:0.900573\n",
            "[334]\tvalidation_0-rmse:0.900514\n",
            "[335]\tvalidation_0-rmse:0.900481\n",
            "[336]\tvalidation_0-rmse:0.900449\n",
            "[337]\tvalidation_0-rmse:0.900418\n",
            "[338]\tvalidation_0-rmse:0.900387\n",
            "[339]\tvalidation_0-rmse:0.90033\n",
            "[340]\tvalidation_0-rmse:0.900303\n",
            "[341]\tvalidation_0-rmse:0.900278\n",
            "[342]\tvalidation_0-rmse:0.900231\n",
            "[343]\tvalidation_0-rmse:0.900176\n",
            "[344]\tvalidation_0-rmse:0.900158\n",
            "[345]\tvalidation_0-rmse:0.900131\n",
            "[346]\tvalidation_0-rmse:0.900119\n",
            "[347]\tvalidation_0-rmse:0.899914\n",
            "[348]\tvalidation_0-rmse:0.899905\n",
            "[349]\tvalidation_0-rmse:0.899832\n",
            "[350]\tvalidation_0-rmse:0.899817\n",
            "[351]\tvalidation_0-rmse:0.899741\n",
            "[352]\tvalidation_0-rmse:0.899692\n",
            "[353]\tvalidation_0-rmse:0.899677\n",
            "[354]\tvalidation_0-rmse:0.899654\n",
            "[355]\tvalidation_0-rmse:0.899593\n",
            "[356]\tvalidation_0-rmse:0.899533\n",
            "[357]\tvalidation_0-rmse:0.899493\n",
            "[358]\tvalidation_0-rmse:0.899472\n",
            "[359]\tvalidation_0-rmse:0.899417\n",
            "[360]\tvalidation_0-rmse:0.89939\n",
            "[361]\tvalidation_0-rmse:0.899318\n",
            "[362]\tvalidation_0-rmse:0.899307\n",
            "[363]\tvalidation_0-rmse:0.899278\n",
            "[364]\tvalidation_0-rmse:0.899255\n",
            "[365]\tvalidation_0-rmse:0.899195\n",
            "[366]\tvalidation_0-rmse:0.899174\n",
            "[367]\tvalidation_0-rmse:0.899132\n",
            "[368]\tvalidation_0-rmse:0.89905\n",
            "[369]\tvalidation_0-rmse:0.898984\n",
            "[370]\tvalidation_0-rmse:0.898962\n",
            "[371]\tvalidation_0-rmse:0.898913\n",
            "[372]\tvalidation_0-rmse:0.898887\n",
            "[373]\tvalidation_0-rmse:0.898849\n",
            "[374]\tvalidation_0-rmse:0.898833\n",
            "[375]\tvalidation_0-rmse:0.898787\n",
            "[376]\tvalidation_0-rmse:0.898733\n",
            "[377]\tvalidation_0-rmse:0.898723\n",
            "[378]\tvalidation_0-rmse:0.898708\n",
            "[379]\tvalidation_0-rmse:0.898678\n",
            "[380]\tvalidation_0-rmse:0.898607\n",
            "[381]\tvalidation_0-rmse:0.898571\n",
            "[382]\tvalidation_0-rmse:0.89854\n",
            "[383]\tvalidation_0-rmse:0.898513\n",
            "[384]\tvalidation_0-rmse:0.898387\n",
            "[385]\tvalidation_0-rmse:0.898339\n",
            "[386]\tvalidation_0-rmse:0.898316\n",
            "[387]\tvalidation_0-rmse:0.898296\n",
            "[388]\tvalidation_0-rmse:0.898285\n",
            "[389]\tvalidation_0-rmse:0.898249\n",
            "[390]\tvalidation_0-rmse:0.898232\n",
            "[391]\tvalidation_0-rmse:0.898207\n",
            "[392]\tvalidation_0-rmse:0.898185\n",
            "[393]\tvalidation_0-rmse:0.898107\n",
            "[394]\tvalidation_0-rmse:0.898068\n",
            "[395]\tvalidation_0-rmse:0.898035\n",
            "[396]\tvalidation_0-rmse:0.898016\n",
            "[397]\tvalidation_0-rmse:0.897973\n",
            "[398]\tvalidation_0-rmse:0.897958\n",
            "[399]\tvalidation_0-rmse:0.897898\n",
            "[400]\tvalidation_0-rmse:0.897866\n",
            "[401]\tvalidation_0-rmse:0.897851\n",
            "[402]\tvalidation_0-rmse:0.897833\n",
            "[403]\tvalidation_0-rmse:0.897795\n",
            "[404]\tvalidation_0-rmse:0.89777\n",
            "[405]\tvalidation_0-rmse:0.897738\n",
            "[406]\tvalidation_0-rmse:0.897696\n",
            "[407]\tvalidation_0-rmse:0.897637\n",
            "[408]\tvalidation_0-rmse:0.897627\n",
            "[409]\tvalidation_0-rmse:0.897608\n",
            "[410]\tvalidation_0-rmse:0.897579\n",
            "[411]\tvalidation_0-rmse:0.897565\n",
            "[412]\tvalidation_0-rmse:0.897543\n",
            "[413]\tvalidation_0-rmse:0.897522\n",
            "[414]\tvalidation_0-rmse:0.897456\n",
            "[415]\tvalidation_0-rmse:0.89744\n",
            "[416]\tvalidation_0-rmse:0.897417\n",
            "[417]\tvalidation_0-rmse:0.897359\n",
            "[418]\tvalidation_0-rmse:0.897349\n",
            "[419]\tvalidation_0-rmse:0.897332\n",
            "[420]\tvalidation_0-rmse:0.89731\n",
            "[421]\tvalidation_0-rmse:0.897276\n",
            "[422]\tvalidation_0-rmse:0.897247\n",
            "[423]\tvalidation_0-rmse:0.897206\n",
            "[424]\tvalidation_0-rmse:0.897173\n",
            "[425]\tvalidation_0-rmse:0.897154\n",
            "[426]\tvalidation_0-rmse:0.897109\n",
            "[427]\tvalidation_0-rmse:0.897085\n",
            "[428]\tvalidation_0-rmse:0.897053\n",
            "[429]\tvalidation_0-rmse:0.89699\n",
            "[430]\tvalidation_0-rmse:0.896972\n",
            "[431]\tvalidation_0-rmse:0.896956\n",
            "[432]\tvalidation_0-rmse:0.896691\n",
            "[433]\tvalidation_0-rmse:0.896683\n",
            "[434]\tvalidation_0-rmse:0.896653\n",
            "[435]\tvalidation_0-rmse:0.896622\n",
            "[436]\tvalidation_0-rmse:0.896548\n",
            "[437]\tvalidation_0-rmse:0.896533\n",
            "[438]\tvalidation_0-rmse:0.896517\n",
            "[439]\tvalidation_0-rmse:0.896435\n",
            "[440]\tvalidation_0-rmse:0.896412\n",
            "[441]\tvalidation_0-rmse:0.896386\n",
            "[442]\tvalidation_0-rmse:0.896355\n",
            "[443]\tvalidation_0-rmse:0.896334\n",
            "[444]\tvalidation_0-rmse:0.896311\n",
            "[445]\tvalidation_0-rmse:0.896294\n",
            "[446]\tvalidation_0-rmse:0.89625\n",
            "[447]\tvalidation_0-rmse:0.89618\n",
            "[448]\tvalidation_0-rmse:0.89616\n",
            "[449]\tvalidation_0-rmse:0.89612\n",
            "[450]\tvalidation_0-rmse:0.896011\n",
            "[451]\tvalidation_0-rmse:0.895991\n",
            "[452]\tvalidation_0-rmse:0.895955\n",
            "[453]\tvalidation_0-rmse:0.895865\n",
            "[454]\tvalidation_0-rmse:0.895847\n",
            "[455]\tvalidation_0-rmse:0.895808\n",
            "[456]\tvalidation_0-rmse:0.895774\n",
            "[457]\tvalidation_0-rmse:0.89575\n",
            "[458]\tvalidation_0-rmse:0.895719\n",
            "[459]\tvalidation_0-rmse:0.895674\n",
            "[460]\tvalidation_0-rmse:0.895644\n",
            "[461]\tvalidation_0-rmse:0.895632\n",
            "[462]\tvalidation_0-rmse:0.895611\n",
            "[463]\tvalidation_0-rmse:0.895586\n",
            "[464]\tvalidation_0-rmse:0.895567\n",
            "[465]\tvalidation_0-rmse:0.895538\n",
            "[466]\tvalidation_0-rmse:0.895535\n",
            "[467]\tvalidation_0-rmse:0.895523\n",
            "[468]\tvalidation_0-rmse:0.8955\n",
            "[469]\tvalidation_0-rmse:0.895473\n",
            "[470]\tvalidation_0-rmse:0.89545\n",
            "[471]\tvalidation_0-rmse:0.895427\n",
            "[472]\tvalidation_0-rmse:0.895416\n",
            "[473]\tvalidation_0-rmse:0.895392\n",
            "[474]\tvalidation_0-rmse:0.895381\n",
            "[475]\tvalidation_0-rmse:0.895355\n",
            "[476]\tvalidation_0-rmse:0.895333\n",
            "[477]\tvalidation_0-rmse:0.895317\n",
            "[478]\tvalidation_0-rmse:0.895296\n",
            "[479]\tvalidation_0-rmse:0.895284\n",
            "[480]\tvalidation_0-rmse:0.895271\n",
            "[481]\tvalidation_0-rmse:0.895248\n",
            "[482]\tvalidation_0-rmse:0.895228\n",
            "[483]\tvalidation_0-rmse:0.895203\n",
            "[484]\tvalidation_0-rmse:0.895187\n",
            "[485]\tvalidation_0-rmse:0.895171\n",
            "[486]\tvalidation_0-rmse:0.895081\n",
            "[487]\tvalidation_0-rmse:0.895065\n",
            "[488]\tvalidation_0-rmse:0.895041\n",
            "[489]\tvalidation_0-rmse:0.895018\n",
            "[490]\tvalidation_0-rmse:0.895003\n",
            "[491]\tvalidation_0-rmse:0.894977\n",
            "[492]\tvalidation_0-rmse:0.894957\n",
            "[493]\tvalidation_0-rmse:0.894935\n",
            "[494]\tvalidation_0-rmse:0.894883\n",
            "[495]\tvalidation_0-rmse:0.894861\n",
            "[496]\tvalidation_0-rmse:0.894844\n",
            "[497]\tvalidation_0-rmse:0.894821\n",
            "[498]\tvalidation_0-rmse:0.894806\n",
            "[499]\tvalidation_0-rmse:0.894776\n",
            "[500]\tvalidation_0-rmse:0.894755\n",
            "[501]\tvalidation_0-rmse:0.894731\n",
            "[502]\tvalidation_0-rmse:0.894707\n",
            "[503]\tvalidation_0-rmse:0.894678\n",
            "[504]\tvalidation_0-rmse:0.894662\n",
            "[505]\tvalidation_0-rmse:0.894647\n",
            "[506]\tvalidation_0-rmse:0.894638\n",
            "[507]\tvalidation_0-rmse:0.894613\n",
            "[508]\tvalidation_0-rmse:0.894562\n",
            "[509]\tvalidation_0-rmse:0.89449\n",
            "[510]\tvalidation_0-rmse:0.894462\n",
            "[511]\tvalidation_0-rmse:0.894409\n",
            "[512]\tvalidation_0-rmse:0.894381\n",
            "[513]\tvalidation_0-rmse:0.89434\n",
            "[514]\tvalidation_0-rmse:0.894316\n",
            "[515]\tvalidation_0-rmse:0.894301\n",
            "[516]\tvalidation_0-rmse:0.894274\n",
            "[517]\tvalidation_0-rmse:0.894264\n",
            "[518]\tvalidation_0-rmse:0.894239\n",
            "[519]\tvalidation_0-rmse:0.894205\n",
            "[520]\tvalidation_0-rmse:0.894171\n",
            "[521]\tvalidation_0-rmse:0.894153\n",
            "[522]\tvalidation_0-rmse:0.89414\n",
            "[523]\tvalidation_0-rmse:0.894091\n",
            "[524]\tvalidation_0-rmse:0.894066\n",
            "[525]\tvalidation_0-rmse:0.894045\n",
            "[526]\tvalidation_0-rmse:0.894004\n",
            "[527]\tvalidation_0-rmse:0.893992\n",
            "[528]\tvalidation_0-rmse:0.893962\n",
            "[529]\tvalidation_0-rmse:0.893949\n",
            "[530]\tvalidation_0-rmse:0.893939\n",
            "[531]\tvalidation_0-rmse:0.893922\n",
            "[532]\tvalidation_0-rmse:0.893887\n",
            "[533]\tvalidation_0-rmse:0.893872\n",
            "[534]\tvalidation_0-rmse:0.893856\n",
            "[535]\tvalidation_0-rmse:0.89383\n",
            "[536]\tvalidation_0-rmse:0.89381\n",
            "[537]\tvalidation_0-rmse:0.89379\n",
            "[538]\tvalidation_0-rmse:0.89377\n",
            "[539]\tvalidation_0-rmse:0.893749\n",
            "[540]\tvalidation_0-rmse:0.893736\n",
            "[541]\tvalidation_0-rmse:0.893717\n",
            "[542]\tvalidation_0-rmse:0.893703\n",
            "[543]\tvalidation_0-rmse:0.893634\n",
            "[544]\tvalidation_0-rmse:0.893611\n",
            "[545]\tvalidation_0-rmse:0.89356\n",
            "[546]\tvalidation_0-rmse:0.893536\n",
            "[547]\tvalidation_0-rmse:0.893516\n",
            "[548]\tvalidation_0-rmse:0.893509\n",
            "[549]\tvalidation_0-rmse:0.893488\n",
            "[550]\tvalidation_0-rmse:0.893468\n",
            "[551]\tvalidation_0-rmse:0.893447\n",
            "[552]\tvalidation_0-rmse:0.893424\n",
            "[553]\tvalidation_0-rmse:0.8934\n",
            "[554]\tvalidation_0-rmse:0.893385\n",
            "[555]\tvalidation_0-rmse:0.89337\n",
            "[556]\tvalidation_0-rmse:0.893327\n",
            "[557]\tvalidation_0-rmse:0.893299\n",
            "[558]\tvalidation_0-rmse:0.893291\n",
            "[559]\tvalidation_0-rmse:0.893273\n",
            "[560]\tvalidation_0-rmse:0.893248\n",
            "[561]\tvalidation_0-rmse:0.893229\n",
            "[562]\tvalidation_0-rmse:0.893191\n",
            "[563]\tvalidation_0-rmse:0.893184\n",
            "[564]\tvalidation_0-rmse:0.893157\n",
            "[565]\tvalidation_0-rmse:0.893149\n",
            "[566]\tvalidation_0-rmse:0.893124\n",
            "[567]\tvalidation_0-rmse:0.893089\n",
            "[568]\tvalidation_0-rmse:0.893075\n",
            "[569]\tvalidation_0-rmse:0.893056\n",
            "[570]\tvalidation_0-rmse:0.893042\n",
            "[571]\tvalidation_0-rmse:0.893022\n",
            "[572]\tvalidation_0-rmse:0.893\n",
            "[573]\tvalidation_0-rmse:0.892954\n",
            "[574]\tvalidation_0-rmse:0.892935\n",
            "[575]\tvalidation_0-rmse:0.892917\n",
            "[576]\tvalidation_0-rmse:0.892885\n",
            "[577]\tvalidation_0-rmse:0.892843\n",
            "[578]\tvalidation_0-rmse:0.892826\n",
            "[579]\tvalidation_0-rmse:0.892819\n",
            "[580]\tvalidation_0-rmse:0.892808\n",
            "[581]\tvalidation_0-rmse:0.892797\n",
            "[582]\tvalidation_0-rmse:0.892777\n",
            "[583]\tvalidation_0-rmse:0.89276\n",
            "[584]\tvalidation_0-rmse:0.892753\n",
            "[585]\tvalidation_0-rmse:0.892739\n",
            "[586]\tvalidation_0-rmse:0.892698\n",
            "[587]\tvalidation_0-rmse:0.892672\n",
            "[588]\tvalidation_0-rmse:0.892649\n",
            "[589]\tvalidation_0-rmse:0.892637\n",
            "[590]\tvalidation_0-rmse:0.892582\n",
            "[591]\tvalidation_0-rmse:0.892559\n",
            "[592]\tvalidation_0-rmse:0.892547\n",
            "[593]\tvalidation_0-rmse:0.89253\n",
            "[594]\tvalidation_0-rmse:0.892511\n",
            "[595]\tvalidation_0-rmse:0.892473\n",
            "[596]\tvalidation_0-rmse:0.892465\n",
            "[597]\tvalidation_0-rmse:0.892447\n",
            "[598]\tvalidation_0-rmse:0.892434\n",
            "[599]\tvalidation_0-rmse:0.892415\n",
            "[600]\tvalidation_0-rmse:0.892396\n",
            "[601]\tvalidation_0-rmse:0.892388\n",
            "[602]\tvalidation_0-rmse:0.892371\n",
            "[603]\tvalidation_0-rmse:0.89236\n",
            "[604]\tvalidation_0-rmse:0.8922\n",
            "[605]\tvalidation_0-rmse:0.892198\n",
            "[606]\tvalidation_0-rmse:0.892146\n",
            "[607]\tvalidation_0-rmse:0.892122\n",
            "[608]\tvalidation_0-rmse:0.892114\n",
            "[609]\tvalidation_0-rmse:0.892099\n",
            "[610]\tvalidation_0-rmse:0.892078\n",
            "[611]\tvalidation_0-rmse:0.892073\n",
            "[612]\tvalidation_0-rmse:0.892009\n",
            "[613]\tvalidation_0-rmse:0.891988\n",
            "[614]\tvalidation_0-rmse:0.891938\n",
            "[615]\tvalidation_0-rmse:0.891909\n",
            "[616]\tvalidation_0-rmse:0.891892\n",
            "[617]\tvalidation_0-rmse:0.891887\n",
            "[618]\tvalidation_0-rmse:0.891836\n",
            "[619]\tvalidation_0-rmse:0.891819\n",
            "[620]\tvalidation_0-rmse:0.8918\n",
            "[621]\tvalidation_0-rmse:0.89177\n",
            "[622]\tvalidation_0-rmse:0.891763\n",
            "[623]\tvalidation_0-rmse:0.891747\n",
            "[624]\tvalidation_0-rmse:0.891729\n",
            "[625]\tvalidation_0-rmse:0.891712\n",
            "[626]\tvalidation_0-rmse:0.891702\n",
            "[627]\tvalidation_0-rmse:0.891681\n",
            "[628]\tvalidation_0-rmse:0.891662\n",
            "[629]\tvalidation_0-rmse:0.891642\n",
            "[630]\tvalidation_0-rmse:0.891604\n",
            "[631]\tvalidation_0-rmse:0.891596\n",
            "[632]\tvalidation_0-rmse:0.891581\n",
            "[633]\tvalidation_0-rmse:0.891561\n",
            "[634]\tvalidation_0-rmse:0.89151\n",
            "[635]\tvalidation_0-rmse:0.891488\n",
            "[636]\tvalidation_0-rmse:0.891478\n",
            "[637]\tvalidation_0-rmse:0.891424\n",
            "[638]\tvalidation_0-rmse:0.891403\n",
            "[639]\tvalidation_0-rmse:0.891388\n",
            "[640]\tvalidation_0-rmse:0.891364\n",
            "[641]\tvalidation_0-rmse:0.891353\n",
            "[642]\tvalidation_0-rmse:0.891344\n",
            "[643]\tvalidation_0-rmse:0.891333\n",
            "[644]\tvalidation_0-rmse:0.891238\n",
            "[645]\tvalidation_0-rmse:0.891217\n",
            "[646]\tvalidation_0-rmse:0.891194\n",
            "[647]\tvalidation_0-rmse:0.89104\n",
            "[648]\tvalidation_0-rmse:0.891026\n",
            "[649]\tvalidation_0-rmse:0.890985\n",
            "[650]\tvalidation_0-rmse:0.89095\n",
            "[651]\tvalidation_0-rmse:0.890917\n",
            "[652]\tvalidation_0-rmse:0.890904\n",
            "[653]\tvalidation_0-rmse:0.890874\n",
            "[654]\tvalidation_0-rmse:0.89086\n",
            "[655]\tvalidation_0-rmse:0.890839\n",
            "[656]\tvalidation_0-rmse:0.890826\n",
            "[657]\tvalidation_0-rmse:0.890811\n",
            "[658]\tvalidation_0-rmse:0.890785\n",
            "[659]\tvalidation_0-rmse:0.890765\n",
            "[660]\tvalidation_0-rmse:0.890734\n",
            "[661]\tvalidation_0-rmse:0.890706\n",
            "[662]\tvalidation_0-rmse:0.890691\n",
            "[663]\tvalidation_0-rmse:0.890684\n",
            "[664]\tvalidation_0-rmse:0.890668\n",
            "[665]\tvalidation_0-rmse:0.890652\n",
            "[666]\tvalidation_0-rmse:0.890638\n",
            "[667]\tvalidation_0-rmse:0.890619\n",
            "[668]\tvalidation_0-rmse:0.890599\n",
            "[669]\tvalidation_0-rmse:0.890573\n",
            "[670]\tvalidation_0-rmse:0.890565\n",
            "[671]\tvalidation_0-rmse:0.890534\n",
            "[672]\tvalidation_0-rmse:0.890521\n",
            "[673]\tvalidation_0-rmse:0.890487\n",
            "[674]\tvalidation_0-rmse:0.890457\n",
            "[675]\tvalidation_0-rmse:0.890447\n",
            "[676]\tvalidation_0-rmse:0.890433\n",
            "[677]\tvalidation_0-rmse:0.890426\n",
            "[678]\tvalidation_0-rmse:0.890417\n",
            "[679]\tvalidation_0-rmse:0.890408\n",
            "[680]\tvalidation_0-rmse:0.890341\n",
            "[681]\tvalidation_0-rmse:0.890333\n",
            "[682]\tvalidation_0-rmse:0.890306\n",
            "[683]\tvalidation_0-rmse:0.890272\n",
            "[684]\tvalidation_0-rmse:0.890266\n",
            "[685]\tvalidation_0-rmse:0.890226\n",
            "[686]\tvalidation_0-rmse:0.890193\n",
            "[687]\tvalidation_0-rmse:0.890167\n",
            "[688]\tvalidation_0-rmse:0.890132\n",
            "[689]\tvalidation_0-rmse:0.890108\n",
            "[690]\tvalidation_0-rmse:0.890093\n",
            "[691]\tvalidation_0-rmse:0.890059\n",
            "[692]\tvalidation_0-rmse:0.890045\n",
            "[693]\tvalidation_0-rmse:0.890022\n",
            "[694]\tvalidation_0-rmse:0.890008\n",
            "[695]\tvalidation_0-rmse:0.889991\n",
            "[696]\tvalidation_0-rmse:0.889977\n",
            "[697]\tvalidation_0-rmse:0.889961\n",
            "[698]\tvalidation_0-rmse:0.88995\n",
            "[699]\tvalidation_0-rmse:0.889937\n",
            "[700]\tvalidation_0-rmse:0.889928\n",
            "[701]\tvalidation_0-rmse:0.889896\n",
            "[702]\tvalidation_0-rmse:0.889877\n",
            "[703]\tvalidation_0-rmse:0.889861\n",
            "[704]\tvalidation_0-rmse:0.889847\n",
            "[705]\tvalidation_0-rmse:0.889822\n",
            "[706]\tvalidation_0-rmse:0.889797\n",
            "[707]\tvalidation_0-rmse:0.889765\n",
            "[708]\tvalidation_0-rmse:0.889735\n",
            "[709]\tvalidation_0-rmse:0.889705\n",
            "[710]\tvalidation_0-rmse:0.889697\n",
            "[711]\tvalidation_0-rmse:0.889677\n",
            "[712]\tvalidation_0-rmse:0.889624\n",
            "[713]\tvalidation_0-rmse:0.889614\n",
            "[714]\tvalidation_0-rmse:0.889586\n",
            "[715]\tvalidation_0-rmse:0.889557\n",
            "[716]\tvalidation_0-rmse:0.889534\n",
            "[717]\tvalidation_0-rmse:0.889517\n",
            "[718]\tvalidation_0-rmse:0.889511\n",
            "[719]\tvalidation_0-rmse:0.889491\n",
            "[720]\tvalidation_0-rmse:0.889471\n",
            "[721]\tvalidation_0-rmse:0.889404\n",
            "[722]\tvalidation_0-rmse:0.889376\n",
            "[723]\tvalidation_0-rmse:0.889337\n",
            "[724]\tvalidation_0-rmse:0.889315\n",
            "[725]\tvalidation_0-rmse:0.889283\n",
            "[726]\tvalidation_0-rmse:0.889264\n",
            "[727]\tvalidation_0-rmse:0.889232\n",
            "[728]\tvalidation_0-rmse:0.88919\n",
            "[729]\tvalidation_0-rmse:0.889176\n",
            "[730]\tvalidation_0-rmse:0.88917\n",
            "[731]\tvalidation_0-rmse:0.889158\n",
            "[732]\tvalidation_0-rmse:0.88914\n",
            "[733]\tvalidation_0-rmse:0.889119\n",
            "[734]\tvalidation_0-rmse:0.889099\n",
            "[735]\tvalidation_0-rmse:0.889087\n",
            "[736]\tvalidation_0-rmse:0.889071\n",
            "[737]\tvalidation_0-rmse:0.889041\n",
            "[738]\tvalidation_0-rmse:0.889022\n",
            "[739]\tvalidation_0-rmse:0.888996\n",
            "[740]\tvalidation_0-rmse:0.888934\n",
            "[741]\tvalidation_0-rmse:0.888927\n",
            "[742]\tvalidation_0-rmse:0.88888\n",
            "[743]\tvalidation_0-rmse:0.888849\n",
            "[744]\tvalidation_0-rmse:0.888824\n",
            "[745]\tvalidation_0-rmse:0.888798\n",
            "[746]\tvalidation_0-rmse:0.888781\n",
            "[747]\tvalidation_0-rmse:0.888762\n",
            "[748]\tvalidation_0-rmse:0.888739\n",
            "[749]\tvalidation_0-rmse:0.888686\n",
            "[750]\tvalidation_0-rmse:0.888673\n",
            "[751]\tvalidation_0-rmse:0.888654\n",
            "[752]\tvalidation_0-rmse:0.888627\n",
            "[753]\tvalidation_0-rmse:0.888614\n",
            "[754]\tvalidation_0-rmse:0.888603\n",
            "[755]\tvalidation_0-rmse:0.888585\n",
            "[756]\tvalidation_0-rmse:0.888554\n",
            "[757]\tvalidation_0-rmse:0.888549\n",
            "[758]\tvalidation_0-rmse:0.888536\n",
            "[759]\tvalidation_0-rmse:0.888531\n",
            "[760]\tvalidation_0-rmse:0.888521\n",
            "[761]\tvalidation_0-rmse:0.888477\n",
            "[762]\tvalidation_0-rmse:0.888466\n",
            "[763]\tvalidation_0-rmse:0.888454\n",
            "[764]\tvalidation_0-rmse:0.888416\n",
            "[765]\tvalidation_0-rmse:0.888385\n",
            "[766]\tvalidation_0-rmse:0.888367\n",
            "[767]\tvalidation_0-rmse:0.888358\n",
            "[768]\tvalidation_0-rmse:0.888343\n",
            "[769]\tvalidation_0-rmse:0.888308\n",
            "[770]\tvalidation_0-rmse:0.888296\n",
            "[771]\tvalidation_0-rmse:0.888247\n",
            "[772]\tvalidation_0-rmse:0.888233\n",
            "[773]\tvalidation_0-rmse:0.888183\n",
            "[774]\tvalidation_0-rmse:0.88814\n",
            "[775]\tvalidation_0-rmse:0.888128\n",
            "[776]\tvalidation_0-rmse:0.888102\n",
            "[777]\tvalidation_0-rmse:0.888082\n",
            "[778]\tvalidation_0-rmse:0.888069\n",
            "[779]\tvalidation_0-rmse:0.888043\n",
            "[780]\tvalidation_0-rmse:0.888026\n",
            "[781]\tvalidation_0-rmse:0.888003\n",
            "[782]\tvalidation_0-rmse:0.887997\n",
            "[783]\tvalidation_0-rmse:0.88799\n",
            "[784]\tvalidation_0-rmse:0.88798\n",
            "[785]\tvalidation_0-rmse:0.887939\n",
            "[786]\tvalidation_0-rmse:0.887933\n",
            "[787]\tvalidation_0-rmse:0.887887\n",
            "[788]\tvalidation_0-rmse:0.887871\n",
            "[789]\tvalidation_0-rmse:0.887861\n",
            "[790]\tvalidation_0-rmse:0.887846\n",
            "[791]\tvalidation_0-rmse:0.887822\n",
            "[792]\tvalidation_0-rmse:0.887804\n",
            "[793]\tvalidation_0-rmse:0.887776\n",
            "[794]\tvalidation_0-rmse:0.887742\n",
            "[795]\tvalidation_0-rmse:0.887729\n",
            "[796]\tvalidation_0-rmse:0.887717\n",
            "[797]\tvalidation_0-rmse:0.887688\n",
            "[798]\tvalidation_0-rmse:0.887674\n",
            "[799]\tvalidation_0-rmse:0.887635\n",
            "[800]\tvalidation_0-rmse:0.887611\n",
            "[801]\tvalidation_0-rmse:0.887599\n",
            "[802]\tvalidation_0-rmse:0.887559\n",
            "[803]\tvalidation_0-rmse:0.887514\n",
            "[804]\tvalidation_0-rmse:0.887501\n",
            "[805]\tvalidation_0-rmse:0.887489\n",
            "[806]\tvalidation_0-rmse:0.88748\n",
            "[807]\tvalidation_0-rmse:0.887473\n",
            "[808]\tvalidation_0-rmse:0.887465\n",
            "[809]\tvalidation_0-rmse:0.88744\n",
            "[810]\tvalidation_0-rmse:0.887431\n",
            "[811]\tvalidation_0-rmse:0.887411\n",
            "[812]\tvalidation_0-rmse:0.887382\n",
            "[813]\tvalidation_0-rmse:0.887344\n",
            "[814]\tvalidation_0-rmse:0.887322\n",
            "[815]\tvalidation_0-rmse:0.887314\n",
            "[816]\tvalidation_0-rmse:0.887295\n",
            "[817]\tvalidation_0-rmse:0.887249\n",
            "[818]\tvalidation_0-rmse:0.887222\n",
            "[819]\tvalidation_0-rmse:0.887217\n",
            "[820]\tvalidation_0-rmse:0.88717\n",
            "[821]\tvalidation_0-rmse:0.88716\n",
            "[822]\tvalidation_0-rmse:0.887142\n",
            "[823]\tvalidation_0-rmse:0.887129\n",
            "[824]\tvalidation_0-rmse:0.887119\n",
            "[825]\tvalidation_0-rmse:0.887081\n",
            "[826]\tvalidation_0-rmse:0.88707\n",
            "[827]\tvalidation_0-rmse:0.887069\n",
            "[828]\tvalidation_0-rmse:0.887037\n",
            "[829]\tvalidation_0-rmse:0.88702\n",
            "[830]\tvalidation_0-rmse:0.887\n",
            "[831]\tvalidation_0-rmse:0.886989\n",
            "[832]\tvalidation_0-rmse:0.886966\n",
            "[833]\tvalidation_0-rmse:0.886953\n",
            "[834]\tvalidation_0-rmse:0.886932\n",
            "[835]\tvalidation_0-rmse:0.886912\n",
            "[836]\tvalidation_0-rmse:0.886886\n",
            "[837]\tvalidation_0-rmse:0.886839\n",
            "[838]\tvalidation_0-rmse:0.88683\n",
            "[839]\tvalidation_0-rmse:0.886815\n",
            "[840]\tvalidation_0-rmse:0.886802\n",
            "[841]\tvalidation_0-rmse:0.886786\n",
            "[842]\tvalidation_0-rmse:0.88677\n",
            "[843]\tvalidation_0-rmse:0.88676\n",
            "[844]\tvalidation_0-rmse:0.886754\n",
            "[845]\tvalidation_0-rmse:0.886731\n",
            "[846]\tvalidation_0-rmse:0.886722\n",
            "[847]\tvalidation_0-rmse:0.886711\n",
            "[848]\tvalidation_0-rmse:0.886694\n",
            "[849]\tvalidation_0-rmse:0.886678\n",
            "[850]\tvalidation_0-rmse:0.886672\n",
            "[851]\tvalidation_0-rmse:0.88664\n",
            "[852]\tvalidation_0-rmse:0.886622\n",
            "[853]\tvalidation_0-rmse:0.886612\n",
            "[854]\tvalidation_0-rmse:0.886575\n",
            "[855]\tvalidation_0-rmse:0.886567\n",
            "[856]\tvalidation_0-rmse:0.886548\n",
            "[857]\tvalidation_0-rmse:0.886497\n",
            "[858]\tvalidation_0-rmse:0.886489\n",
            "[859]\tvalidation_0-rmse:0.886469\n",
            "[860]\tvalidation_0-rmse:0.886446\n",
            "[861]\tvalidation_0-rmse:0.886437\n",
            "[862]\tvalidation_0-rmse:0.886418\n",
            "[863]\tvalidation_0-rmse:0.886409\n",
            "[864]\tvalidation_0-rmse:0.886385\n",
            "[865]\tvalidation_0-rmse:0.886369\n",
            "[866]\tvalidation_0-rmse:0.886358\n",
            "[867]\tvalidation_0-rmse:0.886323\n",
            "[868]\tvalidation_0-rmse:0.886313\n",
            "[869]\tvalidation_0-rmse:0.886298\n",
            "[870]\tvalidation_0-rmse:0.886277\n",
            "[871]\tvalidation_0-rmse:0.886272\n",
            "[872]\tvalidation_0-rmse:0.886264\n",
            "[873]\tvalidation_0-rmse:0.886213\n",
            "[874]\tvalidation_0-rmse:0.886192\n",
            "[875]\tvalidation_0-rmse:0.886171\n",
            "[876]\tvalidation_0-rmse:0.886163\n",
            "[877]\tvalidation_0-rmse:0.886157\n",
            "[878]\tvalidation_0-rmse:0.886146\n",
            "[879]\tvalidation_0-rmse:0.886114\n",
            "[880]\tvalidation_0-rmse:0.886099\n",
            "[881]\tvalidation_0-rmse:0.886074\n",
            "[882]\tvalidation_0-rmse:0.886051\n",
            "[883]\tvalidation_0-rmse:0.886039\n",
            "[884]\tvalidation_0-rmse:0.886005\n",
            "[885]\tvalidation_0-rmse:0.886\n",
            "[886]\tvalidation_0-rmse:0.885956\n",
            "[887]\tvalidation_0-rmse:0.885922\n",
            "[888]\tvalidation_0-rmse:0.885884\n",
            "[889]\tvalidation_0-rmse:0.885868\n",
            "[890]\tvalidation_0-rmse:0.885857\n",
            "[891]\tvalidation_0-rmse:0.885848\n",
            "[892]\tvalidation_0-rmse:0.885844\n",
            "[893]\tvalidation_0-rmse:0.885839\n",
            "[894]\tvalidation_0-rmse:0.885824\n",
            "[895]\tvalidation_0-rmse:0.885807\n",
            "[896]\tvalidation_0-rmse:0.885786\n",
            "[897]\tvalidation_0-rmse:0.88576\n",
            "[898]\tvalidation_0-rmse:0.885733\n",
            "[899]\tvalidation_0-rmse:0.885728\n",
            "[900]\tvalidation_0-rmse:0.885709\n",
            "[901]\tvalidation_0-rmse:0.8857\n",
            "[902]\tvalidation_0-rmse:0.885686\n",
            "[903]\tvalidation_0-rmse:0.885657\n",
            "[904]\tvalidation_0-rmse:0.885632\n",
            "[905]\tvalidation_0-rmse:0.885585\n",
            "[906]\tvalidation_0-rmse:0.885575\n",
            "[907]\tvalidation_0-rmse:0.885552\n",
            "[908]\tvalidation_0-rmse:0.885538\n",
            "[909]\tvalidation_0-rmse:0.885526\n",
            "[910]\tvalidation_0-rmse:0.8855\n",
            "[911]\tvalidation_0-rmse:0.885492\n",
            "[912]\tvalidation_0-rmse:0.885485\n",
            "[913]\tvalidation_0-rmse:0.88547\n",
            "[914]\tvalidation_0-rmse:0.885463\n",
            "[915]\tvalidation_0-rmse:0.885449\n",
            "[916]\tvalidation_0-rmse:0.885425\n",
            "[917]\tvalidation_0-rmse:0.885419\n",
            "[918]\tvalidation_0-rmse:0.885407\n",
            "[919]\tvalidation_0-rmse:0.885385\n",
            "[920]\tvalidation_0-rmse:0.885371\n",
            "[921]\tvalidation_0-rmse:0.885357\n",
            "[922]\tvalidation_0-rmse:0.885307\n",
            "[923]\tvalidation_0-rmse:0.885298\n",
            "[924]\tvalidation_0-rmse:0.885287\n",
            "[925]\tvalidation_0-rmse:0.885276\n",
            "[926]\tvalidation_0-rmse:0.885119\n",
            "[927]\tvalidation_0-rmse:0.885112\n",
            "[928]\tvalidation_0-rmse:0.885098\n",
            "[929]\tvalidation_0-rmse:0.885089\n",
            "[930]\tvalidation_0-rmse:0.88508\n",
            "[931]\tvalidation_0-rmse:0.885069\n",
            "[932]\tvalidation_0-rmse:0.885052\n",
            "[933]\tvalidation_0-rmse:0.885022\n",
            "[934]\tvalidation_0-rmse:0.884986\n",
            "[935]\tvalidation_0-rmse:0.884974\n",
            "[936]\tvalidation_0-rmse:0.884958\n",
            "[937]\tvalidation_0-rmse:0.884915\n",
            "[938]\tvalidation_0-rmse:0.884892\n",
            "[939]\tvalidation_0-rmse:0.884877\n",
            "[940]\tvalidation_0-rmse:0.884862\n",
            "[941]\tvalidation_0-rmse:0.884836\n",
            "[942]\tvalidation_0-rmse:0.884824\n",
            "[943]\tvalidation_0-rmse:0.884815\n",
            "[944]\tvalidation_0-rmse:0.884799\n",
            "[945]\tvalidation_0-rmse:0.884789\n",
            "[946]\tvalidation_0-rmse:0.884779\n",
            "[947]\tvalidation_0-rmse:0.884748\n",
            "[948]\tvalidation_0-rmse:0.884726\n",
            "[949]\tvalidation_0-rmse:0.884716\n",
            "[950]\tvalidation_0-rmse:0.884702\n",
            "[951]\tvalidation_0-rmse:0.88467\n",
            "[952]\tvalidation_0-rmse:0.884659\n",
            "[953]\tvalidation_0-rmse:0.884652\n",
            "[954]\tvalidation_0-rmse:0.884603\n",
            "[955]\tvalidation_0-rmse:0.884586\n",
            "[956]\tvalidation_0-rmse:0.88457\n",
            "[957]\tvalidation_0-rmse:0.884559\n",
            "[958]\tvalidation_0-rmse:0.884553\n",
            "[959]\tvalidation_0-rmse:0.884531\n",
            "[960]\tvalidation_0-rmse:0.884515\n",
            "[961]\tvalidation_0-rmse:0.884493\n",
            "[962]\tvalidation_0-rmse:0.884476\n",
            "[963]\tvalidation_0-rmse:0.884465\n",
            "[964]\tvalidation_0-rmse:0.884455\n",
            "[965]\tvalidation_0-rmse:0.884447\n",
            "[966]\tvalidation_0-rmse:0.884431\n",
            "[967]\tvalidation_0-rmse:0.884417\n",
            "[968]\tvalidation_0-rmse:0.884406\n",
            "[969]\tvalidation_0-rmse:0.884395\n",
            "[970]\tvalidation_0-rmse:0.88438\n",
            "[971]\tvalidation_0-rmse:0.884355\n",
            "[972]\tvalidation_0-rmse:0.884331\n",
            "[973]\tvalidation_0-rmse:0.884313\n",
            "[974]\tvalidation_0-rmse:0.884303\n",
            "[975]\tvalidation_0-rmse:0.884284\n",
            "[976]\tvalidation_0-rmse:0.884283\n",
            "[977]\tvalidation_0-rmse:0.884273\n",
            "[978]\tvalidation_0-rmse:0.884234\n",
            "[979]\tvalidation_0-rmse:0.88421\n",
            "[980]\tvalidation_0-rmse:0.884193\n",
            "[981]\tvalidation_0-rmse:0.88415\n",
            "[982]\tvalidation_0-rmse:0.884134\n",
            "[983]\tvalidation_0-rmse:0.884121\n",
            "[984]\tvalidation_0-rmse:0.884101\n",
            "[985]\tvalidation_0-rmse:0.884096\n",
            "[986]\tvalidation_0-rmse:0.884082\n",
            "[987]\tvalidation_0-rmse:0.884075\n",
            "[988]\tvalidation_0-rmse:0.884064\n",
            "[989]\tvalidation_0-rmse:0.88405\n",
            "[990]\tvalidation_0-rmse:0.884035\n",
            "[991]\tvalidation_0-rmse:0.884021\n",
            "[992]\tvalidation_0-rmse:0.884\n",
            "[993]\tvalidation_0-rmse:0.883991\n",
            "[994]\tvalidation_0-rmse:0.883976\n",
            "[995]\tvalidation_0-rmse:0.88396\n",
            "[996]\tvalidation_0-rmse:0.883939\n",
            "[997]\tvalidation_0-rmse:0.883914\n",
            "[998]\tvalidation_0-rmse:0.8839\n",
            "[999]\tvalidation_0-rmse:0.883895\n"
          ],
          "name": "stdout"
        },
        {
          "output_type": "execute_result",
          "data": {
            "text/plain": [
              "XGBRegressor(base_score=0.5, booster='gbtree', colsample_bylevel=1,\n",
              "             colsample_bynode=1, colsample_bytree=0.8, eta=0.3, gamma=0,\n",
              "             importance_type='gain', learning_rate=0.1, max_delta_step=0,\n",
              "             max_depth=4, min_child_weight=300, missing=None, n_estimators=1000,\n",
              "             n_jobs=1, nthread=None, objective='reg:linear', random_state=0,\n",
              "             reg_alpha=0, reg_lambda=1, scale_pos_weight=1, seed=7, silent=None,\n",
              "             subsample=0.8, verbosity=1)"
            ]
          },
          "metadata": {
            "tags": []
          },
          "execution_count": 14
        }
      ]
    },
    {
      "cell_type": "code",
      "metadata": {
        "id": "MO1-LFF3Vjd1",
        "colab_type": "code",
        "colab": {}
      },
      "source": [
        "model = meta_model\n",
        "\n",
        "meta_features_test = pd.DataFrame()\n",
        "for i in range(0,3):\n",
        "  meta_features_test['pred' + str(i)] = pickle.load(open('y_test_xgb_' +  str(i*2) +'.pickle.dat', 'rb'))\n",
        "meta_features_test.head()\n",
        "\n",
        "y_test = model.predict(meta_features_test).clip(0, 20)\n",
        "\n",
        "test_df = pd.read_csv('test.csv')\n",
        "submission = pd.DataFrame({\n",
        "    \"ID\": test_df.index, \n",
        "    \"item_cnt_month\": y_test\n",
        "})\n",
        "submission.to_csv('ensemble.csv', index=False)"
      ],
      "execution_count": 18,
      "outputs": []
    },
    {
      "cell_type": "code",
      "metadata": {
        "id": "irTdOm3_D2Fs",
        "colab_type": "code",
        "colab": {}
      },
      "source": [
        "\"\"\"def plot_features(booster, figsize):    \n",
        "    fig, ax = plt.subplots(1,1,figsize=figsize)\n",
        "    return plot_importance(booster=booster, ax=ax)\n",
        "plot_features(model, (10,14))\"\"\""
      ],
      "execution_count": null,
      "outputs": []
    },
    {
      "cell_type": "code",
      "metadata": {
        "id": "5ZeiBfBjVjd3",
        "colab_type": "code",
        "colab": {}
      },
      "source": [
        ""
      ],
      "execution_count": null,
      "outputs": []
    },
    {
      "cell_type": "code",
      "metadata": {
        "id": "J1Auu7x2Vjd5",
        "colab_type": "code",
        "colab": {},
        "outputId": "529a9dd4-b951-4ec3-a98f-2e53f2126a06"
      },
      "source": [
        ""
      ],
      "execution_count": null,
      "outputs": [
        {
          "output_type": "error",
          "ename": "SyntaxError",
          "evalue": "invalid syntax (<ipython-input-40-8f5aadda6d88>, line 1)",
          "traceback": [
            "\u001b[1;36m  File \u001b[1;32m\"<ipython-input-40-8f5aadda6d88>\"\u001b[1;36m, line \u001b[1;32m1\u001b[0m\n\u001b[1;33m    plot_features(model, (10,14))plot_features(model, (10,14))\u001b[0m\n\u001b[1;37m                                             ^\u001b[0m\n\u001b[1;31mSyntaxError\u001b[0m\u001b[1;31m:\u001b[0m invalid syntax\n"
          ]
        }
      ]
    }
  ]
}